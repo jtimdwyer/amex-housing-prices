{
 "cells": [
  {
   "cell_type": "code",
   "execution_count": 30,
   "metadata": {},
   "outputs": [],
   "source": [
    "import pandas as pd\n",
    "import numpy as np\n",
    "\n",
    "import seaborn as sns"
   ]
  },
  {
   "cell_type": "code",
   "execution_count": 31,
   "metadata": {},
   "outputs": [],
   "source": [
    "df = pd.read_csv('../data/ames_clean.csv', index_col='id')"
   ]
  },
  {
   "cell_type": "code",
   "execution_count": 32,
   "metadata": {},
   "outputs": [],
   "source": [
    "sort_index_abs = df.corr().abs().saleprice.sort_values(ascending=False).index"
   ]
  },
  {
   "cell_type": "code",
   "execution_count": 36,
   "metadata": {},
   "outputs": [
    {
     "data": {
      "text/plain": [
       "saleprice          1.000000\n",
       "overall_qual       0.800429\n",
       "gr_liv_area        0.699867\n",
       "garage_area        0.648242\n",
       "garage_cars        0.646390\n",
       "total_bsmt_sf      0.633092\n",
       "1st_flr_sf         0.623714\n",
       "year_built         0.571449\n",
       "year_remod/add     0.548528\n",
       "full_bath          0.538474\n",
       "mas_vnr_area       0.512396\n",
       "totrms_abvgrd      0.506497\n",
       "fireplaces         0.470803\n",
       "bsmtfin_sf_1       0.424383\n",
       "wood_deck_sf       0.329595\n",
       "open_porch_sf      0.326517\n",
       "lot_frontage       0.323365\n",
       "lot_area           0.295914\n",
       "bsmt_full_bath     0.284993\n",
       "half_bath          0.280894\n",
       "2nd_flr_sf         0.251503\n",
       "bsmt_unf_sf        0.189162\n",
       "screen_porch       0.139539\n",
       "enclosed_porch    -0.138406\n",
       "bedroom_abvgr      0.137738\n",
       "kitchen_abvgr     -0.127242\n",
       "overall_cond      -0.093804\n",
       "ms_subclass       -0.085233\n",
       "3ssn_porch         0.049951\n",
       "bsmt_half_bath    -0.043833\n",
       "low_qual_fin_sf   -0.040681\n",
       "mo_sold            0.025572\n",
       "pool_area          0.023794\n",
       "bsmtfin_sf_2       0.017599\n",
       "yr_sold           -0.013066\n",
       "misc_val          -0.008001\n",
       "Name: saleprice, dtype: float64"
      ]
     },
     "execution_count": 36,
     "metadata": {},
     "output_type": "execute_result"
    }
   ],
   "source": [
    "df.corr().saleprice[sort_index_abs]"
   ]
  },
  {
   "cell_type": "code",
   "execution_count": 37,
   "metadata": {},
   "outputs": [
    {
     "data": {
      "text/plain": [
       "Index(['2nd_flr_sf', 'bsmt_unf_sf', 'screen_porch', 'enclosed_porch',\n",
       "       'bedroom_abvgr', 'kitchen_abvgr', 'overall_cond', 'ms_subclass',\n",
       "       '3ssn_porch', 'bsmt_half_bath', 'low_qual_fin_sf', 'mo_sold',\n",
       "       'pool_area', 'bsmtfin_sf_2', 'yr_sold', 'misc_val'],\n",
       "      dtype='object')"
      ]
     },
     "execution_count": 37,
     "metadata": {},
     "output_type": "execute_result"
    }
   ],
   "source": [
    "df.corr().saleprice[sort_index_abs][20:].index"
   ]
  },
  {
   "cell_type": "code",
   "execution_count": 38,
   "metadata": {},
   "outputs": [],
   "source": [
    "df = df.drop(df.corr().saleprice[sort_index_abs][20:].index, axis=1)"
   ]
  },
  {
   "cell_type": "code",
   "execution_count": 39,
   "metadata": {},
   "outputs": [
    {
     "data": {
      "text/plain": [
       "(2016, 62)"
      ]
     },
     "execution_count": 39,
     "metadata": {},
     "output_type": "execute_result"
    }
   ],
   "source": [
    "df.shape"
   ]
  },
  {
   "cell_type": "code",
   "execution_count": 40,
   "metadata": {},
   "outputs": [],
   "source": [
    "df.to_csv('../data/ames_clean_dropped.csv')"
   ]
  },
  {
   "cell_type": "code",
   "execution_count": 44,
   "metadata": {},
   "outputs": [],
   "source": [
    "test = pd.read_csv('../data/ames_clean_test.csv', index_col='id')\n",
    "test = test[df.drop('saleprice',1).columns]"
   ]
  },
  {
   "cell_type": "code",
   "execution_count": 45,
   "metadata": {},
   "outputs": [
    {
     "data": {
      "text/plain": [
       "(879, 61)"
      ]
     },
     "execution_count": 45,
     "metadata": {},
     "output_type": "execute_result"
    }
   ],
   "source": [
    "test.shape"
   ]
  },
  {
   "cell_type": "code",
   "execution_count": 46,
   "metadata": {},
   "outputs": [],
   "source": [
    "test.to_csv('../data/ames_clean_test_dropped.csv')"
   ]
  }
 ],
 "metadata": {
  "kernelspec": {
   "display_name": "Python 3",
   "language": "python",
   "name": "python3"
  },
  "language_info": {
   "codemirror_mode": {
    "name": "ipython",
    "version": 3
   },
   "file_extension": ".py",
   "mimetype": "text/x-python",
   "name": "python",
   "nbconvert_exporter": "python",
   "pygments_lexer": "ipython3",
   "version": "3.6.5"
  }
 },
 "nbformat": 4,
 "nbformat_minor": 2
}
