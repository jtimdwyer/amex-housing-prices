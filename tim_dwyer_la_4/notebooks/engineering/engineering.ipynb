{
 "cells": [
  {
   "cell_type": "code",
   "execution_count": 1,
   "metadata": {},
   "outputs": [],
   "source": [
    "import pandas as pd\n",
    "import numpy as np\n",
    "\n",
    "from scipy.stats import skew\n",
    "\n",
    "from sklearn.preprocessing import PolynomialFeatures, StandardScaler\n",
    "\n",
    "import seaborn as sns"
   ]
  },
  {
   "cell_type": "code",
   "execution_count": 2,
   "metadata": {},
   "outputs": [],
   "source": [
    "train = pd.read_csv('../../data/cleaned/ames_clean.csv', index_col='id')\n",
    "test = pd.read_csv('../../data/cleaned/ames_clean_test.csv', index_col='id')"
   ]
  },
  {
   "cell_type": "code",
   "execution_count": 3,
   "metadata": {},
   "outputs": [
    {
     "data": {
      "text/html": [
       "<div>\n",
       "<table border=\"1\" class=\"dataframe\">\n",
       "  <thead>\n",
       "    <tr style=\"text-align: right;\">\n",
       "      <th></th>\n",
       "      <th>ms_subclass</th>\n",
       "      <th>ms_zoning</th>\n",
       "      <th>lot_frontage</th>\n",
       "      <th>lot_area</th>\n",
       "      <th>street</th>\n",
       "      <th>alley</th>\n",
       "      <th>lot_shape</th>\n",
       "      <th>land_contour</th>\n",
       "      <th>utilities</th>\n",
       "      <th>lot_config</th>\n",
       "      <th>...</th>\n",
       "      <th>screen_porch</th>\n",
       "      <th>pool_area</th>\n",
       "      <th>pool_qc</th>\n",
       "      <th>fence</th>\n",
       "      <th>misc_feature</th>\n",
       "      <th>misc_val</th>\n",
       "      <th>mo_sold</th>\n",
       "      <th>yr_sold</th>\n",
       "      <th>sale_type</th>\n",
       "      <th>saleprice</th>\n",
       "    </tr>\n",
       "    <tr>\n",
       "      <th>id</th>\n",
       "      <th></th>\n",
       "      <th></th>\n",
       "      <th></th>\n",
       "      <th></th>\n",
       "      <th></th>\n",
       "      <th></th>\n",
       "      <th></th>\n",
       "      <th></th>\n",
       "      <th></th>\n",
       "      <th></th>\n",
       "      <th></th>\n",
       "      <th></th>\n",
       "      <th></th>\n",
       "      <th></th>\n",
       "      <th></th>\n",
       "      <th></th>\n",
       "      <th></th>\n",
       "      <th></th>\n",
       "      <th></th>\n",
       "      <th></th>\n",
       "      <th></th>\n",
       "    </tr>\n",
       "  </thead>\n",
       "  <tbody>\n",
       "    <tr>\n",
       "      <th>109</th>\n",
       "      <td>60</td>\n",
       "      <td>RL</td>\n",
       "      <td>75.0</td>\n",
       "      <td>13517</td>\n",
       "      <td>Pave</td>\n",
       "      <td>No Alley</td>\n",
       "      <td>IR1</td>\n",
       "      <td>Lvl</td>\n",
       "      <td>AllPub</td>\n",
       "      <td>CulDSac</td>\n",
       "      <td>...</td>\n",
       "      <td>0</td>\n",
       "      <td>0</td>\n",
       "      <td>No Pool</td>\n",
       "      <td>No Fence</td>\n",
       "      <td>No Misc Feature</td>\n",
       "      <td>0</td>\n",
       "      <td>3</td>\n",
       "      <td>2010</td>\n",
       "      <td>WD</td>\n",
       "      <td>130500</td>\n",
       "    </tr>\n",
       "    <tr>\n",
       "      <th>544</th>\n",
       "      <td>60</td>\n",
       "      <td>RL</td>\n",
       "      <td>43.0</td>\n",
       "      <td>11492</td>\n",
       "      <td>Pave</td>\n",
       "      <td>No Alley</td>\n",
       "      <td>IR1</td>\n",
       "      <td>Lvl</td>\n",
       "      <td>AllPub</td>\n",
       "      <td>CulDSac</td>\n",
       "      <td>...</td>\n",
       "      <td>0</td>\n",
       "      <td>0</td>\n",
       "      <td>No Pool</td>\n",
       "      <td>No Fence</td>\n",
       "      <td>No Misc Feature</td>\n",
       "      <td>0</td>\n",
       "      <td>4</td>\n",
       "      <td>2009</td>\n",
       "      <td>WD</td>\n",
       "      <td>220000</td>\n",
       "    </tr>\n",
       "    <tr>\n",
       "      <th>153</th>\n",
       "      <td>20</td>\n",
       "      <td>RL</td>\n",
       "      <td>68.0</td>\n",
       "      <td>7922</td>\n",
       "      <td>Pave</td>\n",
       "      <td>No Alley</td>\n",
       "      <td>Reg</td>\n",
       "      <td>Lvl</td>\n",
       "      <td>AllPub</td>\n",
       "      <td>Inside</td>\n",
       "      <td>...</td>\n",
       "      <td>0</td>\n",
       "      <td>0</td>\n",
       "      <td>No Pool</td>\n",
       "      <td>No Fence</td>\n",
       "      <td>No Misc Feature</td>\n",
       "      <td>0</td>\n",
       "      <td>1</td>\n",
       "      <td>2010</td>\n",
       "      <td>WD</td>\n",
       "      <td>109000</td>\n",
       "    </tr>\n",
       "    <tr>\n",
       "      <th>318</th>\n",
       "      <td>60</td>\n",
       "      <td>RL</td>\n",
       "      <td>73.0</td>\n",
       "      <td>9802</td>\n",
       "      <td>Pave</td>\n",
       "      <td>No Alley</td>\n",
       "      <td>Reg</td>\n",
       "      <td>Lvl</td>\n",
       "      <td>AllPub</td>\n",
       "      <td>Inside</td>\n",
       "      <td>...</td>\n",
       "      <td>0</td>\n",
       "      <td>0</td>\n",
       "      <td>No Pool</td>\n",
       "      <td>No Fence</td>\n",
       "      <td>No Misc Feature</td>\n",
       "      <td>0</td>\n",
       "      <td>4</td>\n",
       "      <td>2010</td>\n",
       "      <td>WD</td>\n",
       "      <td>174000</td>\n",
       "    </tr>\n",
       "    <tr>\n",
       "      <th>255</th>\n",
       "      <td>50</td>\n",
       "      <td>RL</td>\n",
       "      <td>82.0</td>\n",
       "      <td>14235</td>\n",
       "      <td>Pave</td>\n",
       "      <td>No Alley</td>\n",
       "      <td>IR1</td>\n",
       "      <td>Lvl</td>\n",
       "      <td>AllPub</td>\n",
       "      <td>Inside</td>\n",
       "      <td>...</td>\n",
       "      <td>0</td>\n",
       "      <td>0</td>\n",
       "      <td>No Pool</td>\n",
       "      <td>No Fence</td>\n",
       "      <td>No Misc Feature</td>\n",
       "      <td>0</td>\n",
       "      <td>3</td>\n",
       "      <td>2010</td>\n",
       "      <td>WD</td>\n",
       "      <td>138500</td>\n",
       "    </tr>\n",
       "  </tbody>\n",
       "</table>\n",
       "<p>5 rows × 78 columns</p>\n",
       "</div>"
      ],
      "text/plain": [
       "     ms_subclass ms_zoning  lot_frontage  lot_area street     alley lot_shape  \\\n",
       "id                                                                              \n",
       "109           60        RL          75.0     13517   Pave  No Alley       IR1   \n",
       "544           60        RL          43.0     11492   Pave  No Alley       IR1   \n",
       "153           20        RL          68.0      7922   Pave  No Alley       Reg   \n",
       "318           60        RL          73.0      9802   Pave  No Alley       Reg   \n",
       "255           50        RL          82.0     14235   Pave  No Alley       IR1   \n",
       "\n",
       "    land_contour utilities lot_config    ...     screen_porch pool_area  \\\n",
       "id                                       ...                              \n",
       "109          Lvl    AllPub    CulDSac    ...                0         0   \n",
       "544          Lvl    AllPub    CulDSac    ...                0         0   \n",
       "153          Lvl    AllPub     Inside    ...                0         0   \n",
       "318          Lvl    AllPub     Inside    ...                0         0   \n",
       "255          Lvl    AllPub     Inside    ...                0         0   \n",
       "\n",
       "     pool_qc     fence     misc_feature misc_val  mo_sold  yr_sold  sale_type  \\\n",
       "id                                                                              \n",
       "109  No Pool  No Fence  No Misc Feature        0        3     2010        WD    \n",
       "544  No Pool  No Fence  No Misc Feature        0        4     2009        WD    \n",
       "153  No Pool  No Fence  No Misc Feature        0        1     2010        WD    \n",
       "318  No Pool  No Fence  No Misc Feature        0        4     2010        WD    \n",
       "255  No Pool  No Fence  No Misc Feature        0        3     2010        WD    \n",
       "\n",
       "     saleprice  \n",
       "id              \n",
       "109     130500  \n",
       "544     220000  \n",
       "153     109000  \n",
       "318     174000  \n",
       "255     138500  \n",
       "\n",
       "[5 rows x 78 columns]"
      ]
     },
     "execution_count": 3,
     "metadata": {},
     "output_type": "execute_result"
    }
   ],
   "source": [
    "train.head()"
   ]
  },
  {
   "cell_type": "code",
   "execution_count": 4,
   "metadata": {},
   "outputs": [
    {
     "data": {
      "text/html": [
       "<div>\n",
       "<table border=\"1\" class=\"dataframe\">\n",
       "  <thead>\n",
       "    <tr style=\"text-align: right;\">\n",
       "      <th></th>\n",
       "      <th>ms_subclass</th>\n",
       "      <th>ms_zoning</th>\n",
       "      <th>lot_frontage</th>\n",
       "      <th>lot_area</th>\n",
       "      <th>street</th>\n",
       "      <th>alley</th>\n",
       "      <th>lot_shape</th>\n",
       "      <th>land_contour</th>\n",
       "      <th>utilities</th>\n",
       "      <th>lot_config</th>\n",
       "      <th>...</th>\n",
       "      <th>3ssn_porch</th>\n",
       "      <th>screen_porch</th>\n",
       "      <th>pool_area</th>\n",
       "      <th>pool_qc</th>\n",
       "      <th>fence</th>\n",
       "      <th>misc_feature</th>\n",
       "      <th>misc_val</th>\n",
       "      <th>mo_sold</th>\n",
       "      <th>yr_sold</th>\n",
       "      <th>sale_type</th>\n",
       "    </tr>\n",
       "    <tr>\n",
       "      <th>id</th>\n",
       "      <th></th>\n",
       "      <th></th>\n",
       "      <th></th>\n",
       "      <th></th>\n",
       "      <th></th>\n",
       "      <th></th>\n",
       "      <th></th>\n",
       "      <th></th>\n",
       "      <th></th>\n",
       "      <th></th>\n",
       "      <th></th>\n",
       "      <th></th>\n",
       "      <th></th>\n",
       "      <th></th>\n",
       "      <th></th>\n",
       "      <th></th>\n",
       "      <th></th>\n",
       "      <th></th>\n",
       "      <th></th>\n",
       "      <th></th>\n",
       "      <th></th>\n",
       "    </tr>\n",
       "  </thead>\n",
       "  <tbody>\n",
       "    <tr>\n",
       "      <th>2658</th>\n",
       "      <td>190</td>\n",
       "      <td>RM</td>\n",
       "      <td>69.0</td>\n",
       "      <td>9142</td>\n",
       "      <td>Pave</td>\n",
       "      <td>Grvl</td>\n",
       "      <td>Reg</td>\n",
       "      <td>Lvl</td>\n",
       "      <td>AllPub</td>\n",
       "      <td>Inside</td>\n",
       "      <td>...</td>\n",
       "      <td>0</td>\n",
       "      <td>0</td>\n",
       "      <td>0</td>\n",
       "      <td>No Pool</td>\n",
       "      <td>No Fence</td>\n",
       "      <td>No Misc Feature</td>\n",
       "      <td>0</td>\n",
       "      <td>4</td>\n",
       "      <td>2006</td>\n",
       "      <td>WD</td>\n",
       "    </tr>\n",
       "    <tr>\n",
       "      <th>2718</th>\n",
       "      <td>90</td>\n",
       "      <td>RL</td>\n",
       "      <td>70.0</td>\n",
       "      <td>9662</td>\n",
       "      <td>Pave</td>\n",
       "      <td>No Alley</td>\n",
       "      <td>IR1</td>\n",
       "      <td>Lvl</td>\n",
       "      <td>AllPub</td>\n",
       "      <td>Inside</td>\n",
       "      <td>...</td>\n",
       "      <td>0</td>\n",
       "      <td>0</td>\n",
       "      <td>0</td>\n",
       "      <td>No Pool</td>\n",
       "      <td>No Fence</td>\n",
       "      <td>No Misc Feature</td>\n",
       "      <td>0</td>\n",
       "      <td>8</td>\n",
       "      <td>2006</td>\n",
       "      <td>WD</td>\n",
       "    </tr>\n",
       "    <tr>\n",
       "      <th>2414</th>\n",
       "      <td>60</td>\n",
       "      <td>RL</td>\n",
       "      <td>58.0</td>\n",
       "      <td>17104</td>\n",
       "      <td>Pave</td>\n",
       "      <td>No Alley</td>\n",
       "      <td>IR1</td>\n",
       "      <td>Lvl</td>\n",
       "      <td>AllPub</td>\n",
       "      <td>Inside</td>\n",
       "      <td>...</td>\n",
       "      <td>0</td>\n",
       "      <td>0</td>\n",
       "      <td>0</td>\n",
       "      <td>No Pool</td>\n",
       "      <td>No Fence</td>\n",
       "      <td>No Misc Feature</td>\n",
       "      <td>0</td>\n",
       "      <td>9</td>\n",
       "      <td>2006</td>\n",
       "      <td>New</td>\n",
       "    </tr>\n",
       "    <tr>\n",
       "      <th>1989</th>\n",
       "      <td>30</td>\n",
       "      <td>RM</td>\n",
       "      <td>60.0</td>\n",
       "      <td>8520</td>\n",
       "      <td>Pave</td>\n",
       "      <td>No Alley</td>\n",
       "      <td>Reg</td>\n",
       "      <td>Lvl</td>\n",
       "      <td>AllPub</td>\n",
       "      <td>Inside</td>\n",
       "      <td>...</td>\n",
       "      <td>0</td>\n",
       "      <td>0</td>\n",
       "      <td>0</td>\n",
       "      <td>No Pool</td>\n",
       "      <td>No Fence</td>\n",
       "      <td>No Misc Feature</td>\n",
       "      <td>0</td>\n",
       "      <td>7</td>\n",
       "      <td>2007</td>\n",
       "      <td>WD</td>\n",
       "    </tr>\n",
       "    <tr>\n",
       "      <th>625</th>\n",
       "      <td>20</td>\n",
       "      <td>RL</td>\n",
       "      <td>75.0</td>\n",
       "      <td>9500</td>\n",
       "      <td>Pave</td>\n",
       "      <td>No Alley</td>\n",
       "      <td>IR1</td>\n",
       "      <td>Lvl</td>\n",
       "      <td>AllPub</td>\n",
       "      <td>Inside</td>\n",
       "      <td>...</td>\n",
       "      <td>0</td>\n",
       "      <td>185</td>\n",
       "      <td>0</td>\n",
       "      <td>No Pool</td>\n",
       "      <td>No Fence</td>\n",
       "      <td>No Misc Feature</td>\n",
       "      <td>0</td>\n",
       "      <td>7</td>\n",
       "      <td>2009</td>\n",
       "      <td>WD</td>\n",
       "    </tr>\n",
       "  </tbody>\n",
       "</table>\n",
       "<p>5 rows × 77 columns</p>\n",
       "</div>"
      ],
      "text/plain": [
       "      ms_subclass ms_zoning  lot_frontage  lot_area street     alley  \\\n",
       "id                                                                     \n",
       "2658          190        RM          69.0      9142   Pave      Grvl   \n",
       "2718           90        RL          70.0      9662   Pave  No Alley   \n",
       "2414           60        RL          58.0     17104   Pave  No Alley   \n",
       "1989           30        RM          60.0      8520   Pave  No Alley   \n",
       "625            20        RL          75.0      9500   Pave  No Alley   \n",
       "\n",
       "     lot_shape land_contour utilities lot_config    ...     3ssn_porch  \\\n",
       "id                                                  ...                  \n",
       "2658       Reg          Lvl    AllPub     Inside    ...              0   \n",
       "2718       IR1          Lvl    AllPub     Inside    ...              0   \n",
       "2414       IR1          Lvl    AllPub     Inside    ...              0   \n",
       "1989       Reg          Lvl    AllPub     Inside    ...              0   \n",
       "625        IR1          Lvl    AllPub     Inside    ...              0   \n",
       "\n",
       "     screen_porch pool_area  pool_qc     fence     misc_feature  misc_val  \\\n",
       "id                                                                          \n",
       "2658            0         0  No Pool  No Fence  No Misc Feature         0   \n",
       "2718            0         0  No Pool  No Fence  No Misc Feature         0   \n",
       "2414            0         0  No Pool  No Fence  No Misc Feature         0   \n",
       "1989            0         0  No Pool  No Fence  No Misc Feature         0   \n",
       "625           185         0  No Pool  No Fence  No Misc Feature         0   \n",
       "\n",
       "      mo_sold  yr_sold  sale_type  \n",
       "id                                 \n",
       "2658        4     2006        WD   \n",
       "2718        8     2006        WD   \n",
       "2414        9     2006        New  \n",
       "1989        7     2007        WD   \n",
       "625         7     2009        WD   \n",
       "\n",
       "[5 rows x 77 columns]"
      ]
     },
     "execution_count": 4,
     "metadata": {},
     "output_type": "execute_result"
    }
   ],
   "source": [
    "test.head()"
   ]
  },
  {
   "cell_type": "code",
   "execution_count": 5,
   "metadata": {
    "scrolled": true
   },
   "outputs": [
    {
     "data": {
      "text/plain": [
       "Index(['ms_subclass', 'ms_zoning', 'lot_frontage', 'lot_area', 'street',\n",
       "       'alley', 'lot_shape', 'land_contour', 'utilities', 'lot_config',\n",
       "       'land_slope', 'neighborhood', 'condition_1', 'condition_2', 'bldg_type',\n",
       "       'house_style', 'overall_qual', 'overall_cond', 'year_built',\n",
       "       'year_remod/add', 'roof_style', 'roof_matl', 'exterior_1st',\n",
       "       'exterior_2nd', 'mas_vnr_type', 'mas_vnr_area', 'exter_qual',\n",
       "       'exter_cond', 'foundation', 'bsmt_qual', 'bsmt_cond', 'bsmt_exposure',\n",
       "       'bsmtfin_type_1', 'bsmtfin_sf_1', 'bsmtfin_type_2', 'bsmtfin_sf_2',\n",
       "       'bsmt_unf_sf', 'total_bsmt_sf', 'heating', 'heating_qc', 'central_air',\n",
       "       'electrical', '1st_flr_sf', '2nd_flr_sf', 'low_qual_fin_sf',\n",
       "       'gr_liv_area', 'bsmt_full_bath', 'bsmt_half_bath', 'full_bath',\n",
       "       'half_bath', 'bedroom_abvgr', 'kitchen_abvgr', 'kitchen_qual',\n",
       "       'totrms_abvgrd', 'functional', 'fireplaces', 'fireplace_qu',\n",
       "       'garage_type', 'garage_finish', 'garage_cars', 'garage_area',\n",
       "       'garage_qual', 'garage_cond', 'paved_drive', 'wood_deck_sf',\n",
       "       'open_porch_sf', 'enclosed_porch', '3ssn_porch', 'screen_porch',\n",
       "       'pool_area', 'pool_qc', 'fence', 'misc_feature', 'misc_val', 'mo_sold',\n",
       "       'yr_sold', 'sale_type'],\n",
       "      dtype='object')"
      ]
     },
     "execution_count": 5,
     "metadata": {},
     "output_type": "execute_result"
    }
   ],
   "source": [
    "test.columns"
   ]
  },
  {
   "cell_type": "code",
   "execution_count": 6,
   "metadata": {},
   "outputs": [],
   "source": [
    "train['ms_subclass'] = train['ms_subclass'].astype('object')\n",
    "test['ms_subclass'] = test['ms_subclass'].astype('object')"
   ]
  },
  {
   "cell_type": "code",
   "execution_count": 7,
   "metadata": {},
   "outputs": [],
   "source": [
    "sort_index_abs = train.corr().abs().saleprice.sort_values(ascending=False).index"
   ]
  },
  {
   "cell_type": "code",
   "execution_count": 8,
   "metadata": {},
   "outputs": [
    {
     "data": {
      "text/plain": [
       "saleprice          1.000000\n",
       "overall_qual       0.800429\n",
       "gr_liv_area        0.699867\n",
       "garage_area        0.648242\n",
       "garage_cars        0.646390\n",
       "total_bsmt_sf      0.633092\n",
       "1st_flr_sf         0.623714\n",
       "year_built         0.571449\n",
       "year_remod/add     0.548528\n",
       "full_bath          0.538474\n",
       "mas_vnr_area       0.512396\n",
       "totrms_abvgrd      0.506497\n",
       "fireplaces         0.470803\n",
       "bsmtfin_sf_1       0.424383\n",
       "wood_deck_sf       0.329595\n",
       "open_porch_sf      0.326517\n",
       "lot_frontage       0.323365\n",
       "lot_area           0.295914\n",
       "bsmt_full_bath     0.284993\n",
       "half_bath          0.280894\n",
       "2nd_flr_sf         0.251503\n",
       "bsmt_unf_sf        0.189162\n",
       "screen_porch       0.139539\n",
       "enclosed_porch    -0.138406\n",
       "bedroom_abvgr      0.137738\n",
       "kitchen_abvgr     -0.127242\n",
       "overall_cond      -0.093804\n",
       "3ssn_porch         0.049951\n",
       "bsmt_half_bath    -0.043833\n",
       "low_qual_fin_sf   -0.040681\n",
       "mo_sold            0.025572\n",
       "pool_area          0.023794\n",
       "bsmtfin_sf_2       0.017599\n",
       "yr_sold           -0.013066\n",
       "misc_val          -0.008001\n",
       "Name: saleprice, dtype: float64"
      ]
     },
     "execution_count": 8,
     "metadata": {},
     "output_type": "execute_result"
    }
   ],
   "source": [
    "train.corr().saleprice[sort_index_abs]"
   ]
  },
  {
   "cell_type": "code",
   "execution_count": 9,
   "metadata": {
    "scrolled": true
   },
   "outputs": [
    {
     "data": {
      "text/plain": [
       "overall_qual      0.800429\n",
       "gr_liv_area       0.699867\n",
       "garage_area       0.648242\n",
       "garage_cars       0.646390\n",
       "total_bsmt_sf     0.633092\n",
       "1st_flr_sf        0.623714\n",
       "year_built        0.571449\n",
       "year_remod/add    0.548528\n",
       "full_bath         0.538474\n",
       "mas_vnr_area      0.512396\n",
       "totrms_abvgrd     0.506497\n",
       "fireplaces        0.470803\n",
       "bsmtfin_sf_1      0.424383\n",
       "wood_deck_sf      0.329595\n",
       "open_porch_sf     0.326517\n",
       "lot_frontage      0.323365\n",
       "lot_area          0.295914\n",
       "bsmt_full_bath    0.284993\n",
       "half_bath         0.280894\n",
       "2nd_flr_sf        0.251503\n",
       "Name: saleprice, dtype: float64"
      ]
     },
     "execution_count": 9,
     "metadata": {},
     "output_type": "execute_result"
    }
   ],
   "source": [
    "train.corr().saleprice[sort_index_abs][1:21]"
   ]
  },
  {
   "cell_type": "code",
   "execution_count": 10,
   "metadata": {},
   "outputs": [],
   "source": [
    "train_saleprice = train.saleprice\n",
    "train = train.drop(train.corr().saleprice[sort_index_abs][1:21].index, axis=1).drop('saleprice', 1)\n",
    "test = test[[col for col in train.columns if col != 'saleprice']]"
   ]
  },
  {
   "cell_type": "code",
   "execution_count": 11,
   "metadata": {},
   "outputs": [
    {
     "data": {
      "text/plain": [
       "((2016, 43), (879, 43), (2016, 14), (879, 14))"
      ]
     },
     "execution_count": 11,
     "metadata": {},
     "output_type": "execute_result"
    }
   ],
   "source": [
    "train_cat = train.select_dtypes(include=['object'])\n",
    "train_num = train.select_dtypes(exclude=['object'])\n",
    "\n",
    "\n",
    "test_cat = test.select_dtypes(include=['object'])\n",
    "test_num = test.select_dtypes(exclude=['object'])\n",
    "train_cat.shape, test_cat.shape, train_num.shape, test_num.shape"
   ]
  },
  {
   "cell_type": "code",
   "execution_count": 12,
   "metadata": {},
   "outputs": [],
   "source": [
    "pf = PolynomialFeatures(include_bias=False)\n"
   ]
  },
  {
   "cell_type": "code",
   "execution_count": 13,
   "metadata": {
    "scrolled": true
   },
   "outputs": [
    {
     "data": {
      "text/plain": [
       "((2016, 119), (879, 119))"
      ]
     },
     "execution_count": 13,
     "metadata": {},
     "output_type": "execute_result"
    }
   ],
   "source": [
    "train_num = pd.DataFrame(pf.fit_transform(train_num),\n",
    "                         index=train_num.index,\n",
    "                         columns=pf.get_feature_names(train_num.columns))\n",
    "\n",
    "test_num = pd.DataFrame(pf.fit_transform(test_num),\n",
    "                        index=test_num.index,\n",
    "                        columns=pf.get_feature_names(test_num.columns))\n",
    "\n",
    "train_num.shape, test_num.shape"
   ]
  },
  {
   "cell_type": "code",
   "execution_count": 14,
   "metadata": {},
   "outputs": [],
   "source": [
    "for col in train_num.columns:  \n",
    "    if skew(train_num[col]) > 1:\n",
    "        train_num[col] = pd.Series(data=np.log1p(train_num[col]),\n",
    "                              index=train_num.index,\n",
    "                              name=col\n",
    "                             )\n",
    "\n",
    "        test_num[col] = pd.Series(data=np.log1p(test_num[col]),\n",
    "                              index=test_num.index,\n",
    "                              name=col\n",
    "                             )\n",
    "    "
   ]
  },
  {
   "cell_type": "code",
   "execution_count": 15,
   "metadata": {},
   "outputs": [
    {
     "data": {
      "text/plain": [
       "((2016, 281), (879, 264))"
      ]
     },
     "execution_count": 15,
     "metadata": {},
     "output_type": "execute_result"
    }
   ],
   "source": [
    "train_cat = pd.get_dummies(train_cat)\n",
    "test_cat = pd.get_dummies(test_cat)\n",
    "train_cat.shape, test_cat.shape"
   ]
  },
  {
   "cell_type": "code",
   "execution_count": 16,
   "metadata": {},
   "outputs": [
    {
     "data": {
      "text/plain": [
       "((2016, 281), (879, 255))"
      ]
     },
     "execution_count": 16,
     "metadata": {},
     "output_type": "execute_result"
    }
   ],
   "source": [
    "for col in test_cat.columns:\n",
    "    if col not in train_cat.columns:\n",
    "        test_cat.drop(col, 1, inplace=True)\n",
    "train_cat.shape, test_cat.shape"
   ]
  },
  {
   "cell_type": "code",
   "execution_count": 17,
   "metadata": {},
   "outputs": [
    {
     "data": {
      "text/plain": [
       "((2016, 281), (879, 281))"
      ]
     },
     "execution_count": 17,
     "metadata": {},
     "output_type": "execute_result"
    }
   ],
   "source": [
    "for col in train_cat.columns:\n",
    "    if col not in test_cat.columns:\n",
    "        test_cat[col] = pd.Series([0 for _ in range(test_cat.shape[0])], index=test_cat.index, name=col)\n",
    "train_cat.shape, test_cat.shape"
   ]
  },
  {
   "cell_type": "code",
   "execution_count": 18,
   "metadata": {},
   "outputs": [],
   "source": [
    "garage_cols = []\n",
    "bsmt_cols = []\n",
    " \n",
    "for col in train_cat.columns:\n",
    "    if 'No Garage' in col:\n",
    "        garage_cols.append(col)\n",
    "    elif 'No Basement' in col:\n",
    "        bsmt_cols.append(col)\n",
    "\n",
    "garage_cols.pop();\n",
    "bsmt_cols.pop();"
   ]
  },
  {
   "cell_type": "code",
   "execution_count": 19,
   "metadata": {},
   "outputs": [],
   "source": [
    "train_cat.drop(labels=garage_cols, axis=1, inplace=True)\n",
    "test_cat.drop(labels=garage_cols, axis=1, inplace=True)"
   ]
  },
  {
   "cell_type": "code",
   "execution_count": 20,
   "metadata": {},
   "outputs": [],
   "source": [
    "train = train_num.join(train_cat)\n",
    "test = test_num.join(test_cat)"
   ]
  },
  {
   "cell_type": "code",
   "execution_count": 21,
   "metadata": {},
   "outputs": [],
   "source": [
    "ss = StandardScaler()\n",
    "train = pd.DataFrame(ss.fit_transform(train), index=train.index)\n",
    "test = pd.DataFrame(ss.fit_transform(test), index=test.index)"
   ]
  },
  {
   "cell_type": "code",
   "execution_count": 22,
   "metadata": {},
   "outputs": [],
   "source": [
    "train['SalePrice'] = train_saleprice"
   ]
  },
  {
   "cell_type": "code",
   "execution_count": 23,
   "metadata": {
    "scrolled": true
   },
   "outputs": [
    {
     "data": {
      "text/plain": [
       "((2016, 398), (879, 397))"
      ]
     },
     "execution_count": 23,
     "metadata": {},
     "output_type": "execute_result"
    }
   ],
   "source": [
    "train.shape, test.shape"
   ]
  },
  {
   "cell_type": "code",
   "execution_count": 24,
   "metadata": {},
   "outputs": [],
   "source": [
    "train.to_csv('../../data/engineered/training.csv')\n",
    "test.to_csv('../../data/engineered/test.csv')"
   ]
  }
 ],
 "metadata": {
  "kernelspec": {
   "display_name": "Python 3",
   "language": "python",
   "name": "python3"
  },
  "language_info": {
   "codemirror_mode": {
    "name": "ipython",
    "version": 3
   },
   "file_extension": ".py",
   "mimetype": "text/x-python",
   "name": "python",
   "nbconvert_exporter": "python",
   "pygments_lexer": "ipython3",
   "version": "3.6.2"
  }
 },
 "nbformat": 4,
 "nbformat_minor": 2
}
