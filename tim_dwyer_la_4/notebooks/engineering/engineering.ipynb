{
 "cells": [
  {
   "cell_type": "code",
   "execution_count": 1,
   "metadata": {},
   "outputs": [],
   "source": [
    "import pandas as pd\n",
    "import numpy as np\n",
    "\n",
    "from sklearn.preprocessing import PolynomialFeatures, StandardScaler\n",
    "\n",
    "import seaborn as sns"
   ]
  },
  {
   "cell_type": "code",
   "execution_count": 2,
   "metadata": {},
   "outputs": [],
   "source": [
    "train = pd.read_csv('../../data/cleaned/ames_clean.csv', index_col='id')\n",
    "test = pd.read_csv('../../data/cleaned/ames_clean_test.csv', index_col='id')"
   ]
  },
  {
   "cell_type": "code",
   "execution_count": 3,
   "metadata": {
    "scrolled": true
   },
   "outputs": [
    {
     "data": {
      "text/plain": [
       "Index(['ms_subclass', 'ms_zoning', 'lot_frontage', 'lot_area', 'street',\n",
       "       'alley', 'lot_shape', 'land_contour', 'utilities', 'lot_config',\n",
       "       'land_slope', 'neighborhood', 'condition_1', 'condition_2', 'bldg_type',\n",
       "       'house_style', 'overall_qual', 'overall_cond', 'year_built',\n",
       "       'year_remod/add', 'roof_style', 'roof_matl', 'exterior_1st',\n",
       "       'exterior_2nd', 'mas_vnr_type', 'mas_vnr_area', 'exter_qual',\n",
       "       'exter_cond', 'foundation', 'bsmt_qual', 'bsmt_cond', 'bsmt_exposure',\n",
       "       'bsmtfin_type_1', 'bsmtfin_sf_1', 'bsmtfin_type_2', 'bsmtfin_sf_2',\n",
       "       'bsmt_unf_sf', 'total_bsmt_sf', 'heating', 'heating_qc', 'central_air',\n",
       "       'electrical', '1st_flr_sf', '2nd_flr_sf', 'low_qual_fin_sf',\n",
       "       'gr_liv_area', 'bsmt_full_bath', 'bsmt_half_bath', 'full_bath',\n",
       "       'half_bath', 'bedroom_abvgr', 'kitchen_abvgr', 'kitchen_qual',\n",
       "       'totrms_abvgrd', 'functional', 'fireplaces', 'fireplace_qu',\n",
       "       'garage_type', 'garage_finish', 'garage_cars', 'garage_area',\n",
       "       'garage_qual', 'garage_cond', 'paved_drive', 'wood_deck_sf',\n",
       "       'open_porch_sf', 'enclosed_porch', '3ssn_porch', 'screen_porch',\n",
       "       'pool_area', 'pool_qc', 'fence', 'misc_feature', 'misc_val', 'mo_sold',\n",
       "       'yr_sold', 'sale_type'],\n",
       "      dtype='object')"
      ]
     },
     "execution_count": 3,
     "metadata": {},
     "output_type": "execute_result"
    }
   ],
   "source": [
    "test.columns"
   ]
  },
  {
   "cell_type": "code",
   "execution_count": 4,
   "metadata": {},
   "outputs": [],
   "source": [
    "train['ms_subclass'] = train['ms_subclass'].astype('object')\n",
    "test['ms_subclass'] = test['ms_subclass'].astype('object')"
   ]
  },
  {
   "cell_type": "code",
   "execution_count": 5,
   "metadata": {},
   "outputs": [],
   "source": [
    "sort_index_abs = train.corr().abs().saleprice.sort_values(ascending=False).index"
   ]
  },
  {
   "cell_type": "code",
   "execution_count": 6,
   "metadata": {},
   "outputs": [
    {
     "data": {
      "text/plain": [
       "saleprice          1.000000\n",
       "overall_qual       0.800429\n",
       "gr_liv_area        0.699867\n",
       "garage_area        0.648242\n",
       "garage_cars        0.646390\n",
       "total_bsmt_sf      0.633092\n",
       "1st_flr_sf         0.623714\n",
       "year_built         0.571449\n",
       "year_remod/add     0.548528\n",
       "full_bath          0.538474\n",
       "mas_vnr_area       0.512396\n",
       "totrms_abvgrd      0.506497\n",
       "fireplaces         0.470803\n",
       "bsmtfin_sf_1       0.424383\n",
       "wood_deck_sf       0.329595\n",
       "open_porch_sf      0.326517\n",
       "lot_frontage       0.323365\n",
       "lot_area           0.295914\n",
       "bsmt_full_bath     0.284993\n",
       "half_bath          0.280894\n",
       "2nd_flr_sf         0.251503\n",
       "bsmt_unf_sf        0.189162\n",
       "screen_porch       0.139539\n",
       "enclosed_porch    -0.138406\n",
       "bedroom_abvgr      0.137738\n",
       "kitchen_abvgr     -0.127242\n",
       "overall_cond      -0.093804\n",
       "3ssn_porch         0.049951\n",
       "bsmt_half_bath    -0.043833\n",
       "low_qual_fin_sf   -0.040681\n",
       "mo_sold            0.025572\n",
       "pool_area          0.023794\n",
       "bsmtfin_sf_2       0.017599\n",
       "yr_sold           -0.013066\n",
       "misc_val          -0.008001\n",
       "Name: saleprice, dtype: float64"
      ]
     },
     "execution_count": 6,
     "metadata": {},
     "output_type": "execute_result"
    }
   ],
   "source": [
    "train.corr().saleprice[sort_index_abs]"
   ]
  },
  {
   "cell_type": "code",
   "execution_count": 7,
   "metadata": {},
   "outputs": [
    {
     "data": {
      "text/plain": [
       "overall_qual      0.800429\n",
       "gr_liv_area       0.699867\n",
       "garage_area       0.648242\n",
       "garage_cars       0.646390\n",
       "total_bsmt_sf     0.633092\n",
       "1st_flr_sf        0.623714\n",
       "year_built        0.571449\n",
       "year_remod/add    0.548528\n",
       "full_bath         0.538474\n",
       "mas_vnr_area      0.512396\n",
       "totrms_abvgrd     0.506497\n",
       "fireplaces        0.470803\n",
       "bsmtfin_sf_1      0.424383\n",
       "wood_deck_sf      0.329595\n",
       "open_porch_sf     0.326517\n",
       "lot_frontage      0.323365\n",
       "lot_area          0.295914\n",
       "bsmt_full_bath    0.284993\n",
       "half_bath         0.280894\n",
       "2nd_flr_sf        0.251503\n",
       "Name: saleprice, dtype: float64"
      ]
     },
     "execution_count": 7,
     "metadata": {},
     "output_type": "execute_result"
    }
   ],
   "source": [
    "train.corr().saleprice[sort_index_abs][1:21]"
   ]
  },
  {
   "cell_type": "code",
   "execution_count": 8,
   "metadata": {},
   "outputs": [],
   "source": [
    "train_saleprice = train.saleprice\n",
    "train = train.drop(train.corr().saleprice[sort_index_abs][1:21].index, axis=1).drop('saleprice', 1)\n",
    "test = test[[col for col in train.columns if col != 'saleprice']]"
   ]
  },
  {
   "cell_type": "code",
   "execution_count": 9,
   "metadata": {},
   "outputs": [
    {
     "data": {
      "text/plain": [
       "((2016, 43), (879, 43), (2016, 14), (879, 14))"
      ]
     },
     "execution_count": 9,
     "metadata": {},
     "output_type": "execute_result"
    }
   ],
   "source": [
    "train_cat = train.select_dtypes(include=['object'])\n",
    "train_num = train.select_dtypes(exclude=['object'])\n",
    "\n",
    "\n",
    "test_cat = test.select_dtypes(include=['object'])\n",
    "test_num = test.select_dtypes(exclude=['object'])\n",
    "train_cat.shape, test_cat.shape, train_num.shape, test_num.shape"
   ]
  },
  {
   "cell_type": "code",
   "execution_count": 10,
   "metadata": {},
   "outputs": [],
   "source": [
    "pf = PolynomialFeatures()\n"
   ]
  },
  {
   "cell_type": "code",
   "execution_count": 11,
   "metadata": {},
   "outputs": [
    {
     "data": {
      "text/plain": [
       "((2016, 120), (879, 120))"
      ]
     },
     "execution_count": 11,
     "metadata": {},
     "output_type": "execute_result"
    }
   ],
   "source": [
    "train_num = pd.DataFrame(pf.fit_transform(train_num.values), index=train_num.index)\n",
    "test_num = pd.DataFrame(pf.fit_transform(test_num.values), index=test_num.index)\n",
    "train_num.shape, test_num.shape"
   ]
  },
  {
   "cell_type": "code",
   "execution_count": 12,
   "metadata": {},
   "outputs": [
    {
     "data": {
      "text/plain": [
       "((2016, 281), (879, 264))"
      ]
     },
     "execution_count": 12,
     "metadata": {},
     "output_type": "execute_result"
    }
   ],
   "source": [
    "train_cat = pd.get_dummies(train_cat)\n",
    "test_cat = pd.get_dummies(test_cat)\n",
    "train_cat.shape, test_cat.shape"
   ]
  },
  {
   "cell_type": "code",
   "execution_count": 13,
   "metadata": {},
   "outputs": [
    {
     "data": {
      "text/plain": [
       "((2016, 281), (879, 255))"
      ]
     },
     "execution_count": 13,
     "metadata": {},
     "output_type": "execute_result"
    }
   ],
   "source": [
    "for col in test_cat.columns:\n",
    "    if col not in train_cat.columns:\n",
    "        test_cat.drop(col, 1, inplace=True)\n",
    "train_cat.shape, test_cat.shape"
   ]
  },
  {
   "cell_type": "code",
   "execution_count": 14,
   "metadata": {},
   "outputs": [
    {
     "data": {
      "text/plain": [
       "((2016, 281), (879, 281))"
      ]
     },
     "execution_count": 14,
     "metadata": {},
     "output_type": "execute_result"
    }
   ],
   "source": [
    "for col in train_cat.columns:\n",
    "    if col not in test_cat.columns:\n",
    "        test_cat[col] = pd.Series([0 for _ in range(test_cat.shape[0])], index=test_cat.index, name=col)\n",
    "train_cat.shape, test_cat.shape"
   ]
  },
  {
   "cell_type": "code",
   "execution_count": 15,
   "metadata": {},
   "outputs": [],
   "source": [
    "train = train_num.join(train_cat)\n",
    "test = test_num.join(test_cat)"
   ]
  },
  {
   "cell_type": "code",
   "execution_count": 16,
   "metadata": {},
   "outputs": [],
   "source": [
    "ss = StandardScaler()\n",
    "train = pd.DataFrame(ss.fit_transform(train), index=train.index)\n",
    "test = pd.DataFrame(ss.fit_transform(test), index=test.index)"
   ]
  },
  {
   "cell_type": "code",
   "execution_count": 17,
   "metadata": {},
   "outputs": [],
   "source": [
    "train['SalePrice'] = train_saleprice"
   ]
  },
  {
   "cell_type": "code",
   "execution_count": 18,
   "metadata": {},
   "outputs": [
    {
     "data": {
      "text/plain": [
       "((2016, 402), (879, 401))"
      ]
     },
     "execution_count": 18,
     "metadata": {},
     "output_type": "execute_result"
    }
   ],
   "source": [
    "train.shape, test.shape"
   ]
  },
  {
   "cell_type": "code",
   "execution_count": 19,
   "metadata": {},
   "outputs": [],
   "source": [
    "train.to_csv('../../data/engineered/training.csv')\n",
    "test.to_csv('../../data/engineered/test.csv')"
   ]
  }
 ],
 "metadata": {
  "kernelspec": {
   "display_name": "Python 3",
   "language": "python",
   "name": "python3"
  },
  "language_info": {
   "codemirror_mode": {
    "name": "ipython",
    "version": 3
   },
   "file_extension": ".py",
   "mimetype": "text/x-python",
   "name": "python",
   "nbconvert_exporter": "python",
   "pygments_lexer": "ipython3",
   "version": "3.6.2"
  }
 },
 "nbformat": 4,
 "nbformat_minor": 2
}
