{
 "cells": [
  {
   "cell_type": "code",
   "execution_count": 1,
   "metadata": {},
   "outputs": [],
   "source": [
    "import pandas as pd\n",
    "import numpy as np\n",
    "from scipy.stats import boxcox, skew\n",
    "\n",
    "from itertools import chain\n",
    "\n",
    "\n",
    "from sklearn.preprocessing import StandardScaler, PolynomialFeatures\n",
    "from sklearn.linear_model import ElasticNetCV, LassoCV, RidgeCV, LinearRegression\n",
    "from sklearn.model_selection import train_test_split, cross_val_score\n",
    "from sklearn.metrics import mean_squared_error\n",
    "\n",
    "\n",
    "import matplotlib.pyplot as plt\n",
    "%matplotlib inline"
   ]
  },
  {
   "cell_type": "code",
   "execution_count": 2,
   "metadata": {},
   "outputs": [],
   "source": [
    "df_train = pd.read_csv('../data/ames_clean_dropped.csv', index_col='id')\n",
    "df_kag = pd.read_csv('../data/ames_clean_test_dropped.csv', index_col='id')\n",
    "\n"
   ]
  },
  {
   "cell_type": "code",
   "execution_count": 3,
   "metadata": {},
   "outputs": [],
   "source": [
    "target = 'saleprice'\n",
    "y = df_train[target]\n",
    "X = df_train.drop(target,1)"
   ]
  },
  {
   "cell_type": "code",
   "execution_count": 4,
   "metadata": {},
   "outputs": [],
   "source": [
    "def dummy_wrapper(X):\n",
    "    \n",
    "    X_obj_cols = X.select_dtypes(include='object').columns\n",
    "    garage_cols = [col for col in X_obj_cols if 'garage' in col]\n",
    "    bsmt_cols = [col for col in X_obj_cols if 'bsmt' in col]\n",
    "\n",
    "    \n",
    "    obj_cols = []\n",
    "    for col in X_obj_cols:\n",
    "        if (not col in bsmt_cols) and (not col in garage_cols):\n",
    "            obj_cols.append(col)\n",
    "    \n",
    "    X = pd.get_dummies(data=X, columns=obj_cols,  prefix_sep='__', drop_first=True)\n",
    "    \n",
    "    garage = pd.get_dummies(data=X[garage_cols], prefix_sep='__', drop_first=False)\n",
    "    bsmt = pd.get_dummies(data=X[bsmt_cols], prefix_sep='__', drop_first=False)\n",
    "\n",
    "    \n",
    "    X.drop(garage_cols,1, inplace=True)\n",
    "    X.drop(bsmt_cols,1, inplace=True)\n",
    "    no_garage_cols = [col for col in garage.columns if 'No Garage' in col]\n",
    "    no_bsmt_cols = [col for col in bsmt.columns if 'No Basement' in col]\n",
    "\n",
    "    \n",
    "    \n",
    "    keep_garage = no_garage_cols.pop()\n",
    "    keep_bsmt = no_bsmt_cols.pop()\n",
    "\n",
    "    garage.drop(labels=no_garage_cols, axis=1, inplace=True)\n",
    "    bsmt.drop(labels=no_bsmt_cols, axis=1, inplace=True)\n",
    "\n",
    "    return pd.concat([X, garage, bsmt], axis=1)"
   ]
  },
  {
   "cell_type": "code",
   "execution_count": 5,
   "metadata": {},
   "outputs": [
    {
     "data": {
      "text/plain": [
       "lot_frontage      1.793047\n",
       "lot_area          9.371408\n",
       "overall_qual      0.156640\n",
       "year_built       -0.596243\n",
       "year_remod/add   -0.435334\n",
       "mas_vnr_area      2.597052\n",
       "bsmtfin_sf_1      1.616458\n",
       "total_bsmt_sf     1.394309\n",
       "1st_flr_sf        1.552764\n",
       "gr_liv_area       1.274022\n",
       "bsmt_full_bath    0.632617\n",
       "full_bath         0.102101\n",
       "half_bath         0.737156\n",
       "totrms_abvgrd     0.841278\n",
       "fireplaces        0.732460\n",
       "garage_cars      -0.219673\n",
       "garage_area       0.204486\n",
       "wood_deck_sf      2.014519\n",
       "open_porch_sf     2.315150\n",
       "dtype: float64"
      ]
     },
     "execution_count": 5,
     "metadata": {},
     "output_type": "execute_result"
    }
   ],
   "source": [
    "X.select_dtypes(exclude='object').apply(skew, 0)"
   ]
  },
  {
   "cell_type": "code",
   "execution_count": 6,
   "metadata": {
    "scrolled": true
   },
   "outputs": [],
   "source": [
    "s = X.describe().loc['min'] > 0 \n",
    "\n",
    "s = [col for col in s.index if s[col]]\n",
    "for col in s:\n",
    "    if abs(skew(X[col])) > .25:\n",
    "        X[col] = pd.Series(np.log1p(X[col]), name=col)\n",
    "        df_kag[col] = pd.Series(np.log1p(df_kag[col]), name=col)\n",
    "        "
   ]
  },
  {
   "cell_type": "code",
   "execution_count": 7,
   "metadata": {},
   "outputs": [
    {
     "data": {
      "text/plain": [
       "lot_frontage     -0.995561\n",
       "lot_area         -0.577488\n",
       "overall_qual      0.156640\n",
       "year_built       -0.622709\n",
       "year_remod/add   -0.442313\n",
       "mas_vnr_area      2.597052\n",
       "bsmtfin_sf_1      1.616458\n",
       "total_bsmt_sf     1.394309\n",
       "1st_flr_sf        0.004449\n",
       "gr_liv_area       0.001568\n",
       "bsmt_full_bath    0.632617\n",
       "full_bath         0.102101\n",
       "half_bath         0.737156\n",
       "totrms_abvgrd     0.087463\n",
       "fireplaces        0.732460\n",
       "garage_cars      -0.219673\n",
       "garage_area       0.204486\n",
       "wood_deck_sf      2.014519\n",
       "open_porch_sf     2.315150\n",
       "dtype: float64"
      ]
     },
     "execution_count": 7,
     "metadata": {},
     "output_type": "execute_result"
    }
   ],
   "source": [
    "X.select_dtypes(exclude='object').apply(skew, 0)"
   ]
  },
  {
   "cell_type": "code",
   "execution_count": 8,
   "metadata": {},
   "outputs": [],
   "source": [
    "X_dummies = dummy_wrapper(X)\n",
    "kag_dummies = dummy_wrapper(df_kag)"
   ]
  },
  {
   "cell_type": "code",
   "execution_count": 9,
   "metadata": {},
   "outputs": [
    {
     "data": {
      "text/plain": [
       "(2016, 245)"
      ]
     },
     "execution_count": 9,
     "metadata": {},
     "output_type": "execute_result"
    }
   ],
   "source": [
    "X_dummies.shape"
   ]
  },
  {
   "cell_type": "code",
   "execution_count": 10,
   "metadata": {},
   "outputs": [
    {
     "data": {
      "text/plain": [
       "(879, 228)"
      ]
     },
     "execution_count": 10,
     "metadata": {},
     "output_type": "execute_result"
    }
   ],
   "source": [
    "kag_dummies.shape"
   ]
  },
  {
   "cell_type": "code",
   "execution_count": 11,
   "metadata": {},
   "outputs": [
    {
     "name": "stdout",
     "output_type": "stream",
     "text": [
      "roof_matl__Metal\n",
      "roof_matl__Roll\n",
      "exterior_1st__PreCast\n",
      "exterior_2nd__Other\n",
      "exterior_2nd__PreCast\n",
      "mas_vnr_type__CBlock\n",
      "heating__GasA\n",
      "kitchen_qual__Po\n",
      "sale_type__VWD\n"
     ]
    }
   ],
   "source": [
    "for col in kag_dummies.columns:\n",
    "    if col not in X_dummies.columns:\n",
    "        print(col)"
   ]
  },
  {
   "cell_type": "code",
   "execution_count": 12,
   "metadata": {},
   "outputs": [],
   "source": [
    "for col in kag_dummies.columns:\n",
    "    if col not in X_dummies.columns:\n",
    "        kag_dummies.drop(col,1, inplace=True)\n",
    "        \n",
    "for col in X_dummies.columns:\n",
    "    if col not in kag_dummies.columns:\n",
    "        kag_dummies[col] = pd.Series([0 for _ in range(kag_dummies.shape[0])], index = kag_dummies.index)\n"
   ]
  },
  {
   "cell_type": "code",
   "execution_count": 13,
   "metadata": {},
   "outputs": [],
   "source": [
    "X_dummies.sort_index(axis=1, inplace=True)\n",
    "kag_dummies.sort_index(axis=1, inplace=True)\n"
   ]
  },
  {
   "cell_type": "code",
   "execution_count": 14,
   "metadata": {},
   "outputs": [],
   "source": [
    "pf = PolynomialFeatures()\n",
    "X_dummies_pf = pf.fit_transform(X_dummies)\n",
    "kag_dummies_pf = pf.fit_transform(kag_dummies)"
   ]
  },
  {
   "cell_type": "code",
   "execution_count": 15,
   "metadata": {},
   "outputs": [],
   "source": [
    "X_train, X_test, y_train, y_test = train_test_split(X_dummies, y)\n",
    "\n",
    "ss = StandardScaler()\n",
    "ss.fit(X_train)\n",
    "\n",
    "X_train_sc = ss.transform(X_train)\n",
    "X_test_sc = ss.transform(X_test)\n",
    "\n",
    "y_train = np.log1p(y_train)\n",
    "y_test = np.log1p(y_test)\n",
    "\n",
    "kag_sc = ss.transform(kag_dummies)"
   ]
  },
  {
   "cell_type": "code",
   "execution_count": 16,
   "metadata": {},
   "outputs": [
    {
     "data": {
      "text/plain": [
       "-8.600255296127391e+20"
      ]
     },
     "execution_count": 16,
     "metadata": {},
     "output_type": "execute_result"
    }
   ],
   "source": [
    "model = LinearRegression()\n",
    "\n",
    "model.fit(X_train_sc, y_train)\n",
    "model.score(X_test_sc, y_test)"
   ]
  },
  {
   "cell_type": "code",
   "execution_count": 17,
   "metadata": {},
   "outputs": [
    {
     "data": {
      "text/plain": [
       "array([-6.90546452e+19, -1.68828119e+26, -8.42545358e+18,  8.80959551e-01,\n",
       "       -3.16057518e+21, -3.73334197e+25, -4.72071184e+20,  9.27513208e-01,\n",
       "       -5.56689964e+21, -1.22779791e+20])"
      ]
     },
     "execution_count": 17,
     "metadata": {},
     "output_type": "execute_result"
    }
   ],
   "source": [
    "cross_val_score(LinearRegression(), X_train_sc, y_train, cv = 10)"
   ]
  },
  {
   "cell_type": "code",
   "execution_count": 34,
   "metadata": {},
   "outputs": [
    {
     "data": {
      "text/plain": [
       "0.8896267252791521"
      ]
     },
     "execution_count": 34,
     "metadata": {},
     "output_type": "execute_result"
    }
   ],
   "source": [
    "n_alphas = 10000\n",
    "\n",
    "lasso_model = LassoCV(eps=.0001, n_alphas=n_alphas, max_iter=1000)\n",
    "lasso_model.fit(X_train_sc, y_train)\n",
    "lasso_model.score(X_test_sc, y_test)"
   ]
  },
  {
   "cell_type": "code",
   "execution_count": 35,
   "metadata": {
    "scrolled": true
   },
   "outputs": [
    {
     "data": {
      "text/plain": [
       "27038.559473130255"
      ]
     },
     "execution_count": 35,
     "metadata": {},
     "output_type": "execute_result"
    }
   ],
   "source": [
    "mean_squared_error(np.exp(lasso_model.predict(X_test_sc)) - 1, np.exp(y_test) - 1) **.5"
   ]
  },
  {
   "cell_type": "code",
   "execution_count": 30,
   "metadata": {},
   "outputs": [],
   "source": [
    "y_pred = lasso_model.predict(kag_sc)\n",
    "submission = pd.DataFrame(data=\n",
    "                         {\n",
    "                             'SalePrice':y_pred\n",
    "                         },\n",
    "                         index=df_kag.index)\n",
    "submission = np.exp(submission) - 1\n",
    "submission.sort_index().to_csv('lasso_submission.csv')"
   ]
  },
  {
   "cell_type": "code",
   "execution_count": 21,
   "metadata": {},
   "outputs": [
    {
     "data": {
      "text/plain": [
       "0.8424306408853481"
      ]
     },
     "execution_count": 21,
     "metadata": {},
     "output_type": "execute_result"
    }
   ],
   "source": [
    "ridge_model = RidgeCV(alphas=np.linspace(4780, 4800, 1000))\n",
    "ridge_model.fit(X_train_sc, y_train)\n",
    "ridge_model.score(X_test_sc, y_test)"
   ]
  },
  {
   "cell_type": "code",
   "execution_count": 22,
   "metadata": {},
   "outputs": [
    {
     "data": {
      "text/plain": [
       "4780.0"
      ]
     },
     "execution_count": 22,
     "metadata": {},
     "output_type": "execute_result"
    }
   ],
   "source": [
    "ridge_model.alpha_"
   ]
  },
  {
   "cell_type": "code",
   "execution_count": 23,
   "metadata": {},
   "outputs": [
    {
     "data": {
      "text/plain": [
       "36577.41463911993"
      ]
     },
     "execution_count": 23,
     "metadata": {},
     "output_type": "execute_result"
    }
   ],
   "source": [
    "mean_squared_error(np.exp(ridge_model.predict(X_test_sc)) - 1, np.exp(y_test) - 1) **.5"
   ]
  },
  {
   "cell_type": "code",
   "execution_count": 24,
   "metadata": {},
   "outputs": [],
   "source": [
    "y_pred = ridge_model.predict(kag_sc)\n",
    "submission = pd.DataFrame(data=\n",
    "                         {\n",
    "                             'SalePrice':y_pred\n",
    "                         },\n",
    "                         index=df_kag.index)\n",
    "submission = np.exp(submission) - 1\n",
    "submission.sort_index().to_csv('ridge_submission.csv')"
   ]
  },
  {
   "cell_type": "code",
   "execution_count": 25,
   "metadata": {
    "scrolled": true
   },
   "outputs": [
    {
     "data": {
      "text/plain": [
       "0.8910679899322105"
      ]
     },
     "execution_count": 25,
     "metadata": {},
     "output_type": "execute_result"
    }
   ],
   "source": [
    "l1_ratio = [*chain(np.linspace(.01, .3, 1), np.linspace(.6,1, 2))]\n",
    "n_alphas = 3\n",
    "max_iter = 1000\n",
    "\n",
    "elastic_model = ElasticNetCV(l1_ratio=l1_ratio, n_alphas=n_alphas, max_iter=max_iter)\n",
    "elastic_model.fit(X_train_sc, y_train)\n",
    "elastic_model.score(X_test_sc, y_test)"
   ]
  },
  {
   "cell_type": "code",
   "execution_count": 26,
   "metadata": {},
   "outputs": [
    {
     "data": {
      "text/plain": [
       "28107.981968156684"
      ]
     },
     "execution_count": 26,
     "metadata": {},
     "output_type": "execute_result"
    }
   ],
   "source": [
    "mean_squared_error(np.exp(elastic_model.predict(X_test_sc)) - 1, np.exp(y_test) - 1) **.5"
   ]
  },
  {
   "cell_type": "code",
   "execution_count": 27,
   "metadata": {},
   "outputs": [],
   "source": [
    "y_pred = elastic_model.predict(kag_sc)\n",
    "submission = pd.DataFrame(data=\n",
    "                         {\n",
    "                             'SalePrice':y_pred\n",
    "                         },\n",
    "                         index=df_kag.index)\n",
    "submission = np.exp(submission) - 1\n",
    "submission.sort_index().to_csv('elastic_submission.csv')"
   ]
  },
  {
   "cell_type": "code",
   "execution_count": null,
   "metadata": {},
   "outputs": [],
   "source": []
  }
 ],
 "metadata": {
  "kernelspec": {
   "display_name": "Python 3",
   "language": "python",
   "name": "python3"
  },
  "language_info": {
   "codemirror_mode": {
    "name": "ipython",
    "version": 3
   },
   "file_extension": ".py",
   "mimetype": "text/x-python",
   "name": "python",
   "nbconvert_exporter": "python",
   "pygments_lexer": "ipython3",
   "version": "3.6.5"
  }
 },
 "nbformat": 4,
 "nbformat_minor": 2
}
