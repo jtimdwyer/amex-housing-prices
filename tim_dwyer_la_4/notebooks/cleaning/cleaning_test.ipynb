{
 "cells": [
  {
   "cell_type": "code",
   "execution_count": 3,
   "metadata": {},
   "outputs": [],
   "source": [
    "import pandas as pd\n",
    "import numpy as np\n",
    "from itertools import product\n",
    "\n",
    "import seaborn as sns\n",
    "\n",
    "\n",
    "testcsv = '../../data/kaggle_files/test.csv'\n",
    "traincsv = '../../data/cleaned/ames_clean.csv'"
   ]
  },
  {
   "cell_type": "code",
   "execution_count": 4,
   "metadata": {},
   "outputs": [
    {
     "data": {
      "text/plain": [
       "(879, 79)"
      ]
     },
     "execution_count": 4,
     "metadata": {},
     "output_type": "execute_result"
    }
   ],
   "source": [
    "df_test = pd.read_csv(testcsv, index_col='Id')\n",
    "df_train = pd.read_csv(traincsv, index_col='id')\n",
    "df_test.shape"
   ]
  },
  {
   "cell_type": "code",
   "execution_count": 5,
   "metadata": {
    "scrolled": true
   },
   "outputs": [
    {
     "data": {
      "text/html": [
       "<div>\n",
       "<table border=\"1\" class=\"dataframe\">\n",
       "  <thead>\n",
       "    <tr style=\"text-align: right;\">\n",
       "      <th></th>\n",
       "      <th>PID</th>\n",
       "      <th>MS SubClass</th>\n",
       "      <th>MS Zoning</th>\n",
       "      <th>Lot Frontage</th>\n",
       "      <th>Lot Area</th>\n",
       "      <th>Street</th>\n",
       "      <th>Alley</th>\n",
       "      <th>Lot Shape</th>\n",
       "      <th>Land Contour</th>\n",
       "      <th>Utilities</th>\n",
       "      <th>...</th>\n",
       "      <th>3Ssn Porch</th>\n",
       "      <th>Screen Porch</th>\n",
       "      <th>Pool Area</th>\n",
       "      <th>Pool QC</th>\n",
       "      <th>Fence</th>\n",
       "      <th>Misc Feature</th>\n",
       "      <th>Misc Val</th>\n",
       "      <th>Mo Sold</th>\n",
       "      <th>Yr Sold</th>\n",
       "      <th>Sale Type</th>\n",
       "    </tr>\n",
       "    <tr>\n",
       "      <th>Id</th>\n",
       "      <th></th>\n",
       "      <th></th>\n",
       "      <th></th>\n",
       "      <th></th>\n",
       "      <th></th>\n",
       "      <th></th>\n",
       "      <th></th>\n",
       "      <th></th>\n",
       "      <th></th>\n",
       "      <th></th>\n",
       "      <th></th>\n",
       "      <th></th>\n",
       "      <th></th>\n",
       "      <th></th>\n",
       "      <th></th>\n",
       "      <th></th>\n",
       "      <th></th>\n",
       "      <th></th>\n",
       "      <th></th>\n",
       "      <th></th>\n",
       "      <th></th>\n",
       "    </tr>\n",
       "  </thead>\n",
       "  <tbody>\n",
       "    <tr>\n",
       "      <th>2658</th>\n",
       "      <td>902301120</td>\n",
       "      <td>190</td>\n",
       "      <td>RM</td>\n",
       "      <td>69.0</td>\n",
       "      <td>9142</td>\n",
       "      <td>Pave</td>\n",
       "      <td>Grvl</td>\n",
       "      <td>Reg</td>\n",
       "      <td>Lvl</td>\n",
       "      <td>AllPub</td>\n",
       "      <td>...</td>\n",
       "      <td>0</td>\n",
       "      <td>0</td>\n",
       "      <td>0</td>\n",
       "      <td>NaN</td>\n",
       "      <td>NaN</td>\n",
       "      <td>NaN</td>\n",
       "      <td>0</td>\n",
       "      <td>4</td>\n",
       "      <td>2006</td>\n",
       "      <td>WD</td>\n",
       "    </tr>\n",
       "    <tr>\n",
       "      <th>2718</th>\n",
       "      <td>905108090</td>\n",
       "      <td>90</td>\n",
       "      <td>RL</td>\n",
       "      <td>NaN</td>\n",
       "      <td>9662</td>\n",
       "      <td>Pave</td>\n",
       "      <td>NaN</td>\n",
       "      <td>IR1</td>\n",
       "      <td>Lvl</td>\n",
       "      <td>AllPub</td>\n",
       "      <td>...</td>\n",
       "      <td>0</td>\n",
       "      <td>0</td>\n",
       "      <td>0</td>\n",
       "      <td>NaN</td>\n",
       "      <td>NaN</td>\n",
       "      <td>NaN</td>\n",
       "      <td>0</td>\n",
       "      <td>8</td>\n",
       "      <td>2006</td>\n",
       "      <td>WD</td>\n",
       "    </tr>\n",
       "    <tr>\n",
       "      <th>2414</th>\n",
       "      <td>528218130</td>\n",
       "      <td>60</td>\n",
       "      <td>RL</td>\n",
       "      <td>58.0</td>\n",
       "      <td>17104</td>\n",
       "      <td>Pave</td>\n",
       "      <td>NaN</td>\n",
       "      <td>IR1</td>\n",
       "      <td>Lvl</td>\n",
       "      <td>AllPub</td>\n",
       "      <td>...</td>\n",
       "      <td>0</td>\n",
       "      <td>0</td>\n",
       "      <td>0</td>\n",
       "      <td>NaN</td>\n",
       "      <td>NaN</td>\n",
       "      <td>NaN</td>\n",
       "      <td>0</td>\n",
       "      <td>9</td>\n",
       "      <td>2006</td>\n",
       "      <td>New</td>\n",
       "    </tr>\n",
       "    <tr>\n",
       "      <th>1989</th>\n",
       "      <td>902207150</td>\n",
       "      <td>30</td>\n",
       "      <td>RM</td>\n",
       "      <td>60.0</td>\n",
       "      <td>8520</td>\n",
       "      <td>Pave</td>\n",
       "      <td>NaN</td>\n",
       "      <td>Reg</td>\n",
       "      <td>Lvl</td>\n",
       "      <td>AllPub</td>\n",
       "      <td>...</td>\n",
       "      <td>0</td>\n",
       "      <td>0</td>\n",
       "      <td>0</td>\n",
       "      <td>NaN</td>\n",
       "      <td>NaN</td>\n",
       "      <td>NaN</td>\n",
       "      <td>0</td>\n",
       "      <td>7</td>\n",
       "      <td>2007</td>\n",
       "      <td>WD</td>\n",
       "    </tr>\n",
       "    <tr>\n",
       "      <th>625</th>\n",
       "      <td>535105100</td>\n",
       "      <td>20</td>\n",
       "      <td>RL</td>\n",
       "      <td>NaN</td>\n",
       "      <td>9500</td>\n",
       "      <td>Pave</td>\n",
       "      <td>NaN</td>\n",
       "      <td>IR1</td>\n",
       "      <td>Lvl</td>\n",
       "      <td>AllPub</td>\n",
       "      <td>...</td>\n",
       "      <td>0</td>\n",
       "      <td>185</td>\n",
       "      <td>0</td>\n",
       "      <td>NaN</td>\n",
       "      <td>NaN</td>\n",
       "      <td>NaN</td>\n",
       "      <td>0</td>\n",
       "      <td>7</td>\n",
       "      <td>2009</td>\n",
       "      <td>WD</td>\n",
       "    </tr>\n",
       "  </tbody>\n",
       "</table>\n",
       "<p>5 rows × 79 columns</p>\n",
       "</div>"
      ],
      "text/plain": [
       "            PID  MS SubClass MS Zoning  Lot Frontage  Lot Area Street Alley  \\\n",
       "Id                                                                            \n",
       "2658  902301120          190        RM          69.0      9142   Pave  Grvl   \n",
       "2718  905108090           90        RL           NaN      9662   Pave   NaN   \n",
       "2414  528218130           60        RL          58.0     17104   Pave   NaN   \n",
       "1989  902207150           30        RM          60.0      8520   Pave   NaN   \n",
       "625   535105100           20        RL           NaN      9500   Pave   NaN   \n",
       "\n",
       "     Lot Shape Land Contour Utilities    ...     3Ssn Porch Screen Porch  \\\n",
       "Id                                       ...                               \n",
       "2658       Reg          Lvl    AllPub    ...              0            0   \n",
       "2718       IR1          Lvl    AllPub    ...              0            0   \n",
       "2414       IR1          Lvl    AllPub    ...              0            0   \n",
       "1989       Reg          Lvl    AllPub    ...              0            0   \n",
       "625        IR1          Lvl    AllPub    ...              0          185   \n",
       "\n",
       "     Pool Area Pool QC Fence Misc Feature Misc Val  Mo Sold  Yr Sold  \\\n",
       "Id                                                                     \n",
       "2658         0     NaN   NaN          NaN        0        4     2006   \n",
       "2718         0     NaN   NaN          NaN        0        8     2006   \n",
       "2414         0     NaN   NaN          NaN        0        9     2006   \n",
       "1989         0     NaN   NaN          NaN        0        7     2007   \n",
       "625          0     NaN   NaN          NaN        0        7     2009   \n",
       "\n",
       "      Sale Type  \n",
       "Id               \n",
       "2658        WD   \n",
       "2718        WD   \n",
       "2414        New  \n",
       "1989        WD   \n",
       "625         WD   \n",
       "\n",
       "[5 rows x 79 columns]"
      ]
     },
     "execution_count": 5,
     "metadata": {},
     "output_type": "execute_result"
    }
   ],
   "source": [
    "df_test.head()"
   ]
  },
  {
   "cell_type": "code",
   "execution_count": 6,
   "metadata": {},
   "outputs": [],
   "source": [
    "df_test.columns = df_test.columns.map(lambda col: col.replace(' ','_').lower())\n",
    "df_test.index.name = 'id'"
   ]
  },
  {
   "cell_type": "markdown",
   "metadata": {},
   "source": [
    "Let's drop the PID."
   ]
  },
  {
   "cell_type": "code",
   "execution_count": 7,
   "metadata": {},
   "outputs": [],
   "source": [
    "df_test.drop('pid', axis=1, inplace=True)"
   ]
  },
  {
   "cell_type": "markdown",
   "metadata": {},
   "source": [
    "The `ms_subclass` column should be an object, the numbers are just weird codes for various styles of home. This is not a persistent change in the sense that it won't change what happens when the saved CSV is read by pandas, ie I'll have to do this change again when reading the file back into a dataframe, but I'll do it here so I remember to in the future."
   ]
  },
  {
   "cell_type": "code",
   "execution_count": 8,
   "metadata": {},
   "outputs": [],
   "source": [
    "df_test['ms_subclass'] = df_test['ms_subclass'].astype('object').map(str)\n",
    "df_train['ms_subclass'] = df_train['ms_subclass'].astype('object').map(str)"
   ]
  },
  {
   "cell_type": "markdown",
   "metadata": {},
   "source": [
    "Some columns encode the same information. For example there are a number of columns encoding information about the garage. Accoding to the documentation these columns are supposed to be be empty when there is no garage present. So if all of these columns are empty, we'll fill them with a string declaring that that indicates that the garage is missing. \n",
    "\n",
    "However if some of these columns have values but some do not, for example `Garage Finish` has a value but `Garage Cond` does not, we will drop that row. Some missing entries and some present indicates an error in the row. I'm going to ignore `Garage Yr Blt` for now and handle it at the end since I'm not sure what value it should actually take."
   ]
  },
  {
   "cell_type": "markdown",
   "metadata": {},
   "source": [
    "Fix the `pool_qc`, `misc_feature`, `alley`, `fence`, `fireplace_qe`"
   ]
  },
  {
   "cell_type": "code",
   "execution_count": 9,
   "metadata": {},
   "outputs": [],
   "source": [
    "df_test['pool_qc'].fillna(value='No Pool', inplace=True)\n",
    "df_test['misc_feature'].fillna(value='No Misc Feature', inplace=True)\n",
    "df_test['alley'].fillna(value='No Alley', inplace=True)\n",
    "df_test['fence'].fillna(value='No Fence', inplace=True)\n",
    "df_test['fireplace_qu'].fillna(value='No Fireplace', inplace=True)"
   ]
  },
  {
   "cell_type": "code",
   "execution_count": 10,
   "metadata": {
    "scrolled": false
   },
   "outputs": [
    {
     "data": {
      "text/plain": [
       "lot_frontage     160\n",
       "garage_yr_blt     45\n",
       "garage_finish     45\n",
       "garage_qual       45\n",
       "garage_cond       45\n",
       "dtype: int64"
      ]
     },
     "execution_count": 10,
     "metadata": {},
     "output_type": "execute_result"
    }
   ],
   "source": [
    "df_test.isnull().sum().sort_values(ascending=False).head()"
   ]
  },
  {
   "cell_type": "code",
   "execution_count": 11,
   "metadata": {},
   "outputs": [],
   "source": [
    "#keeps rows with no missing info, keeps rows which are missing every entry in the specified columns\n",
    "#drops all the other rows, fills the missing entries with the new_value\n",
    "\n",
    "#this is the same as in the training data except we're no longer dropping rows with contadictory data in these columns\n",
    "#so now we're just filling the rows with all nan in garage/basement\n",
    "\n",
    "def frame_column_filler(df, columns, new_value, inplace=False):\n",
    "    if not inplace:\n",
    "        tmp_df = df.copy()\n",
    "    else:\n",
    "        tmp_df = df\n",
    "    \n",
    "    num_nan = tmp_df[columns].isnull().sum(1)\n",
    "    \n",
    "    all_nan = set(num_nan[num_nan.apply(lambda x: x == len(columns))].index)\n",
    "    no_nan = set(num_nan[num_nan.apply(lambda x: x == 0)].index)\n",
    "    some_missing = {x for x in tmp_df.index if x not in all_nan.union(no_nan)}\n",
    "    \n",
    "    \n",
    "    for index in tmp_df.index:\n",
    "        if index in all_nan:\n",
    "            for col in columns:\n",
    "                tmp_df.at[index, col] = new_value\n",
    "        \n",
    "    if not inplace:\n",
    "        return tmp_df"
   ]
  },
  {
   "cell_type": "code",
   "execution_count": 12,
   "metadata": {},
   "outputs": [],
   "source": [
    "garage_cols = ['garage_cond', 'garage_qual', 'garage_finish', 'garage_type']\n",
    "frame_column_filler(df_test, garage_cols, 'No Garage', inplace=True)"
   ]
  },
  {
   "cell_type": "code",
   "execution_count": 13,
   "metadata": {
    "scrolled": false
   },
   "outputs": [
    {
     "data": {
      "text/plain": [
       "lot_frontage      160\n",
       "garage_yr_blt      45\n",
       "bsmtfin_type_2     25\n",
       "bsmtfin_type_1     25\n",
       "bsmt_exposure      25\n",
       "dtype: int64"
      ]
     },
     "execution_count": 13,
     "metadata": {},
     "output_type": "execute_result"
    }
   ],
   "source": [
    "df_test.isnull().sum().sort_values(ascending=False).head()"
   ]
  },
  {
   "cell_type": "markdown",
   "metadata": {},
   "source": [
    "I'm going to drop the `Garage Yr Blt` now and see how well we can do without it. I would think that newer garages would maybe be menaingful, but I'm not sure how to encode this column for those houses without a garage."
   ]
  },
  {
   "cell_type": "code",
   "execution_count": 14,
   "metadata": {},
   "outputs": [],
   "source": [
    "df_test.drop('garage_yr_blt', axis=1, inplace=True)"
   ]
  },
  {
   "cell_type": "code",
   "execution_count": 15,
   "metadata": {},
   "outputs": [],
   "source": [
    "basement_cols = ['bsmt_exposure', 'bsmtfin_type_2', 'bsmt_cond', 'bsmt_qual','bsmtfin_type_1']\n",
    "frame_column_filler(df_test, basement_cols, 'No Basement', inplace=True)"
   ]
  },
  {
   "cell_type": "code",
   "execution_count": 16,
   "metadata": {
    "scrolled": false
   },
   "outputs": [
    {
     "data": {
      "text/plain": [
       "lot_frontage     160\n",
       "mas_vnr_area       1\n",
       "garage_finish      1\n",
       "electrical         1\n",
       "garage_qual        1\n",
       "garage_cond        1\n",
       "mas_vnr_type       1\n",
       "sale_type          0\n",
       "roof_style         0\n",
       "roof_matl          0\n",
       "dtype: int64"
      ]
     },
     "execution_count": 16,
     "metadata": {},
     "output_type": "execute_result"
    }
   ],
   "source": [
    "df_test.isnull().sum().sort_values(ascending=False).head(10)"
   ]
  },
  {
   "cell_type": "markdown",
   "metadata": {},
   "source": [
    "The final rows that I believe are true errors in the missing values are the ones below `Lot Frontage`. We'll drop those rows now, then impute values for `Lot Frontage` based on `MS SubClass`."
   ]
  },
  {
   "cell_type": "code",
   "execution_count": 18,
   "metadata": {},
   "outputs": [],
   "source": [
    "medians = df_train[['lot_frontage', 'ms_subclass']].groupby('ms_subclass').agg(np.median).copy()\n",
    "medians = {x:y[0] for x,y in zip(medians.index, medians.values)}"
   ]
  },
  {
   "cell_type": "code",
   "execution_count": 20,
   "metadata": {},
   "outputs": [],
   "source": [
    "for index, lf, ms_sub in df_test[['lot_frontage', 'ms_subclass']].to_records():\n",
    "    if np.isnan(lf):\n",
    "#         print(ms_sub)\n",
    "        df_test.at[index, 'lot_frontage'] = medians[ms_sub]\n"
   ]
  },
  {
   "cell_type": "code",
   "execution_count": 22,
   "metadata": {
    "scrolled": true
   },
   "outputs": [
    {
     "data": {
      "text/plain": [
       "mas_vnr_area     1\n",
       "garage_finish    1\n",
       "electrical       1\n",
       "garage_qual      1\n",
       "garage_cond      1\n",
       "mas_vnr_type     1\n",
       "sale_type        0\n",
       "roof_style       0\n",
       "roof_matl        0\n",
       "exterior_1st     0\n",
       "dtype: int64"
      ]
     },
     "execution_count": 22,
     "metadata": {},
     "output_type": "execute_result"
    }
   ],
   "source": [
    "df_test.isnull().sum().sort_values(ascending=False).head(10)"
   ]
  },
  {
   "cell_type": "markdown",
   "metadata": {},
   "source": [
    "Let's find the rows that need to be fixed still."
   ]
  },
  {
   "cell_type": "code",
   "execution_count": 23,
   "metadata": {
    "scrolled": true
   },
   "outputs": [
    {
     "data": {
      "text/html": [
       "<div>\n",
       "<table border=\"1\" class=\"dataframe\">\n",
       "  <thead>\n",
       "    <tr style=\"text-align: right;\">\n",
       "      <th></th>\n",
       "      <th>ms_subclass</th>\n",
       "      <th>ms_zoning</th>\n",
       "      <th>lot_frontage</th>\n",
       "      <th>lot_area</th>\n",
       "      <th>street</th>\n",
       "      <th>alley</th>\n",
       "      <th>lot_shape</th>\n",
       "      <th>land_contour</th>\n",
       "      <th>utilities</th>\n",
       "      <th>lot_config</th>\n",
       "      <th>...</th>\n",
       "      <th>3ssn_porch</th>\n",
       "      <th>screen_porch</th>\n",
       "      <th>pool_area</th>\n",
       "      <th>pool_qc</th>\n",
       "      <th>fence</th>\n",
       "      <th>misc_feature</th>\n",
       "      <th>misc_val</th>\n",
       "      <th>mo_sold</th>\n",
       "      <th>yr_sold</th>\n",
       "      <th>sale_type</th>\n",
       "    </tr>\n",
       "    <tr>\n",
       "      <th>id</th>\n",
       "      <th></th>\n",
       "      <th></th>\n",
       "      <th></th>\n",
       "      <th></th>\n",
       "      <th></th>\n",
       "      <th></th>\n",
       "      <th></th>\n",
       "      <th></th>\n",
       "      <th></th>\n",
       "      <th></th>\n",
       "      <th></th>\n",
       "      <th></th>\n",
       "      <th></th>\n",
       "      <th></th>\n",
       "      <th></th>\n",
       "      <th></th>\n",
       "      <th></th>\n",
       "      <th></th>\n",
       "      <th></th>\n",
       "      <th></th>\n",
       "      <th></th>\n",
       "    </tr>\n",
       "  </thead>\n",
       "  <tbody>\n",
       "    <tr>\n",
       "      <th>1578</th>\n",
       "      <td>80</td>\n",
       "      <td>RL</td>\n",
       "      <td>73.0</td>\n",
       "      <td>9735</td>\n",
       "      <td>Pave</td>\n",
       "      <td>No Alley</td>\n",
       "      <td>Reg</td>\n",
       "      <td>Lvl</td>\n",
       "      <td>AllPub</td>\n",
       "      <td>Inside</td>\n",
       "      <td>...</td>\n",
       "      <td>0</td>\n",
       "      <td>0</td>\n",
       "      <td>0</td>\n",
       "      <td>No Pool</td>\n",
       "      <td>No Fence</td>\n",
       "      <td>No Misc Feature</td>\n",
       "      <td>0</td>\n",
       "      <td>5</td>\n",
       "      <td>2008</td>\n",
       "      <td>WD</td>\n",
       "    </tr>\n",
       "    <tr>\n",
       "      <th>1357</th>\n",
       "      <td>60</td>\n",
       "      <td>RM</td>\n",
       "      <td>57.0</td>\n",
       "      <td>8094</td>\n",
       "      <td>Pave</td>\n",
       "      <td>Grvl</td>\n",
       "      <td>Reg</td>\n",
       "      <td>Lvl</td>\n",
       "      <td>AllPub</td>\n",
       "      <td>Inside</td>\n",
       "      <td>...</td>\n",
       "      <td>0</td>\n",
       "      <td>0</td>\n",
       "      <td>0</td>\n",
       "      <td>No Pool</td>\n",
       "      <td>MnPrv</td>\n",
       "      <td>Shed</td>\n",
       "      <td>1000</td>\n",
       "      <td>9</td>\n",
       "      <td>2008</td>\n",
       "      <td>WD</td>\n",
       "    </tr>\n",
       "    <tr>\n",
       "      <th>868</th>\n",
       "      <td>60</td>\n",
       "      <td>RL</td>\n",
       "      <td>70.0</td>\n",
       "      <td>8749</td>\n",
       "      <td>Pave</td>\n",
       "      <td>No Alley</td>\n",
       "      <td>Reg</td>\n",
       "      <td>Lvl</td>\n",
       "      <td>AllPub</td>\n",
       "      <td>Inside</td>\n",
       "      <td>...</td>\n",
       "      <td>0</td>\n",
       "      <td>0</td>\n",
       "      <td>0</td>\n",
       "      <td>No Pool</td>\n",
       "      <td>No Fence</td>\n",
       "      <td>No Misc Feature</td>\n",
       "      <td>0</td>\n",
       "      <td>11</td>\n",
       "      <td>2009</td>\n",
       "      <td>WD</td>\n",
       "    </tr>\n",
       "  </tbody>\n",
       "</table>\n",
       "<p>3 rows × 77 columns</p>\n",
       "</div>"
      ],
      "text/plain": [
       "     ms_subclass ms_zoning  lot_frontage  lot_area street     alley lot_shape  \\\n",
       "id                                                                              \n",
       "1578          80        RL          73.0      9735   Pave  No Alley       Reg   \n",
       "1357          60        RM          57.0      8094   Pave      Grvl       Reg   \n",
       "868           60        RL          70.0      8749   Pave  No Alley       Reg   \n",
       "\n",
       "     land_contour utilities lot_config    ...     3ssn_porch screen_porch  \\\n",
       "id                                        ...                               \n",
       "1578          Lvl    AllPub     Inside    ...              0            0   \n",
       "1357          Lvl    AllPub     Inside    ...              0            0   \n",
       "868           Lvl    AllPub     Inside    ...              0            0   \n",
       "\n",
       "     pool_area  pool_qc     fence     misc_feature  misc_val  mo_sold  \\\n",
       "id                                                                      \n",
       "1578         0  No Pool  No Fence  No Misc Feature         0        5   \n",
       "1357         0  No Pool     MnPrv             Shed      1000        9   \n",
       "868          0  No Pool  No Fence  No Misc Feature         0       11   \n",
       "\n",
       "      yr_sold  sale_type  \n",
       "id                        \n",
       "1578     2008        WD   \n",
       "1357     2008        WD   \n",
       "868      2009        WD   \n",
       "\n",
       "[3 rows x 77 columns]"
      ]
     },
     "execution_count": 23,
     "metadata": {},
     "output_type": "execute_result"
    }
   ],
   "source": [
    "df_test[df_test.isnull().sum(1).astype('bool')]"
   ]
  },
  {
   "cell_type": "code",
   "execution_count": 24,
   "metadata": {},
   "outputs": [
    {
     "data": {
      "text/plain": [
       "1"
      ]
     },
     "execution_count": 24,
     "metadata": {},
     "output_type": "execute_result"
    }
   ],
   "source": [
    "df_test.loc[1578].isnull().sum()"
   ]
  },
  {
   "cell_type": "code",
   "execution_count": 25,
   "metadata": {
    "scrolled": true
   },
   "outputs": [
    {
     "data": {
      "text/plain": [
       "nan"
      ]
     },
     "execution_count": 25,
     "metadata": {},
     "output_type": "execute_result"
    }
   ],
   "source": [
    "df_test.at[1578, 'electrical']"
   ]
  },
  {
   "cell_type": "code",
   "execution_count": 26,
   "metadata": {
    "scrolled": true
   },
   "outputs": [
    {
     "data": {
      "text/plain": [
       "SBrkr    1835\n",
       "FuseA     138\n",
       "FuseF      35\n",
       "FuseP       7\n",
       "Mix         1\n",
       "Name: electrical, dtype: int64"
      ]
     },
     "execution_count": 26,
     "metadata": {},
     "output_type": "execute_result"
    }
   ],
   "source": [
    "df_train.electrical.value_counts()"
   ]
  },
  {
   "cell_type": "code",
   "execution_count": 27,
   "metadata": {},
   "outputs": [],
   "source": [
    "df_test.at[1578, 'electrical'] = 'SBrkr'"
   ]
  },
  {
   "cell_type": "code",
   "execution_count": 28,
   "metadata": {},
   "outputs": [
    {
     "data": {
      "text/plain": [
       "2"
      ]
     },
     "execution_count": 28,
     "metadata": {},
     "output_type": "execute_result"
    }
   ],
   "source": [
    "df_test.loc[868].isnull().sum()"
   ]
  },
  {
   "cell_type": "code",
   "execution_count": 29,
   "metadata": {},
   "outputs": [
    {
     "data": {
      "text/plain": [
       "nan"
      ]
     },
     "execution_count": 29,
     "metadata": {},
     "output_type": "execute_result"
    }
   ],
   "source": [
    "df_test.loc[868]['mas_vnr_area']"
   ]
  },
  {
   "cell_type": "code",
   "execution_count": 30,
   "metadata": {},
   "outputs": [
    {
     "data": {
      "text/plain": [
       "nan"
      ]
     },
     "execution_count": 30,
     "metadata": {},
     "output_type": "execute_result"
    }
   ],
   "source": [
    "df_test.loc[868]['mas_vnr_type']"
   ]
  },
  {
   "cell_type": "code",
   "execution_count": 31,
   "metadata": {
    "scrolled": false
   },
   "outputs": [
    {
     "data": {
      "text/plain": [
       "0.0      1211\n",
       "120.0      11\n",
       "200.0      10\n",
       "176.0      10\n",
       "72.0        9\n",
       "Name: mas_vnr_area, dtype: int64"
      ]
     },
     "execution_count": 31,
     "metadata": {},
     "output_type": "execute_result"
    }
   ],
   "source": [
    "df_train['mas_vnr_area'].value_counts().head()"
   ]
  },
  {
   "cell_type": "code",
   "execution_count": 32,
   "metadata": {
    "scrolled": true
   },
   "outputs": [
    {
     "data": {
      "text/plain": [
       "None       1208\n",
       "BrkFace     627\n",
       "Stone       168\n",
       "BrkCmn       13\n",
       "Name: mas_vnr_type, dtype: int64"
      ]
     },
     "execution_count": 32,
     "metadata": {},
     "output_type": "execute_result"
    }
   ],
   "source": [
    "df_train['mas_vnr_type'].value_counts().head()"
   ]
  },
  {
   "cell_type": "code",
   "execution_count": 33,
   "metadata": {},
   "outputs": [],
   "source": [
    "df_test.at[868,'mas_vnr_area'] = 0\n",
    "df_test.at[868,'mas_vnr_type'] = 'None'"
   ]
  },
  {
   "cell_type": "code",
   "execution_count": 34,
   "metadata": {},
   "outputs": [
    {
     "data": {
      "text/plain": [
       "3"
      ]
     },
     "execution_count": 34,
     "metadata": {},
     "output_type": "execute_result"
    }
   ],
   "source": [
    "df_test.loc[1357].isnull().sum()"
   ]
  },
  {
   "cell_type": "code",
   "execution_count": 35,
   "metadata": {
    "scrolled": false
   },
   "outputs": [
    {
     "name": "stdout",
     "output_type": "stream",
     "text": [
      "garage_type Detchd\n",
      "garage_finish nan\n",
      "garage_cars 1.0\n",
      "garage_area 360.0\n",
      "garage_qual nan\n",
      "garage_cond nan\n"
     ]
    }
   ],
   "source": [
    "for col in df_test.columns:\n",
    "    if 'garage' in col:\n",
    "        print(col, df_test.at[1357,col])"
   ]
  },
  {
   "cell_type": "code",
   "execution_count": 36,
   "metadata": {},
   "outputs": [
    {
     "data": {
      "text/plain": [
       "Unf    243\n",
       "RFn      5\n",
       "Fin      2\n",
       "Name: garage_finish, dtype: int64"
      ]
     },
     "execution_count": 36,
     "metadata": {},
     "output_type": "execute_result"
    }
   ],
   "source": [
    "df_train[(df_train['garage_type']=='Detchd') & (df_train['garage_cars'] == 1)]['garage_finish'].value_counts()"
   ]
  },
  {
   "cell_type": "code",
   "execution_count": 37,
   "metadata": {},
   "outputs": [
    {
     "data": {
      "text/plain": [
       "TA    201\n",
       "Fa     44\n",
       "Ex      2\n",
       "Po      2\n",
       "Gd      1\n",
       "Name: garage_qual, dtype: int64"
      ]
     },
     "execution_count": 37,
     "metadata": {},
     "output_type": "execute_result"
    }
   ],
   "source": [
    "df_train[(df_train['garage_type']=='Detchd') & (df_train['garage_cars'] == 1)]['garage_qual'].value_counts()"
   ]
  },
  {
   "cell_type": "code",
   "execution_count": 38,
   "metadata": {
    "scrolled": true
   },
   "outputs": [
    {
     "data": {
      "text/plain": [
       "TA    217\n",
       "Fa     27\n",
       "Po      4\n",
       "Ex      2\n",
       "Name: garage_cond, dtype: int64"
      ]
     },
     "execution_count": 38,
     "metadata": {},
     "output_type": "execute_result"
    }
   ],
   "source": [
    "df_train[(df_train['garage_type']=='Detchd') & (df_train['garage_cars'] == 1)]['garage_cond'].value_counts()"
   ]
  },
  {
   "cell_type": "code",
   "execution_count": 39,
   "metadata": {
    "scrolled": false
   },
   "outputs": [
    {
     "name": "stdout",
     "output_type": "stream",
     "text": [
      "garage_finish nan\n",
      "garage_qual nan\n",
      "garage_cond nan\n"
     ]
    }
   ],
   "source": [
    "for col in df_test.columns:\n",
    "    if 'garage' in col:\n",
    "        if pd.isnull(df_test.at[1357,col]):\n",
    "            print(col, df_test.at[1357,col])"
   ]
  },
  {
   "cell_type": "code",
   "execution_count": 40,
   "metadata": {
    "scrolled": true
   },
   "outputs": [
    {
     "name": "stdout",
     "output_type": "stream",
     "text": [
      "garage_finish nan\n",
      "garage_finish Unf\n",
      "garage_qual nan\n",
      "garage_qual TA\n",
      "garage_cond nan\n",
      "garage_cond TA\n"
     ]
    }
   ],
   "source": [
    "for col in df_test.columns:\n",
    "    if 'garage' in col:\n",
    "        if pd.isnull(df_test.at[1357,col]):\n",
    "            print(col, df_test.at[1357,col])\n",
    "            df_test.at[1357,col] = df_train[(df_train['garage_type']=='Detchd') & \\\n",
    "                                 (df_train['garage_cars'] == 1)][col].value_counts().index[0]\n",
    "            print(col, df_test.at[1357,col])"
   ]
  },
  {
   "cell_type": "code",
   "execution_count": 41,
   "metadata": {
    "scrolled": true
   },
   "outputs": [
    {
     "data": {
      "text/plain": [
       "0"
      ]
     },
     "execution_count": 41,
     "metadata": {},
     "output_type": "execute_result"
    }
   ],
   "source": [
    "df_test.isnull().sum().sum()"
   ]
  },
  {
   "cell_type": "markdown",
   "metadata": {},
   "source": [
    "No more null data at least, maybe I made bad choices about imputing, we shall see."
   ]
  },
  {
   "cell_type": "code",
   "execution_count": 42,
   "metadata": {},
   "outputs": [],
   "source": [
    "df_test.to_csv('../../data/cleaned/ames_clean_test.csv')"
   ]
  },
  {
   "cell_type": "markdown",
   "metadata": {},
   "source": [
    "There could still be lots of outliers or other just wrong data that needs to be removed. Hopefully this will be discovered in EDA."
   ]
  }
 ],
 "metadata": {
  "kernelspec": {
   "display_name": "Python 3",
   "language": "python",
   "name": "python3"
  },
  "language_info": {
   "codemirror_mode": {
    "name": "ipython",
    "version": 3
   },
   "file_extension": ".py",
   "mimetype": "text/x-python",
   "name": "python",
   "nbconvert_exporter": "python",
   "pygments_lexer": "ipython3",
   "version": "3.6.2"
  }
 },
 "nbformat": 4,
 "nbformat_minor": 2
}
