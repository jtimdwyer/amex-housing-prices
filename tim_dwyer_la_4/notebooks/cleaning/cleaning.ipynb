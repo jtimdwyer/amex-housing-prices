{
 "cells": [
  {
   "cell_type": "code",
   "execution_count": 1,
   "metadata": {},
   "outputs": [],
   "source": [
    "import pandas as pd\n",
    "import numpy as np\n",
    "from itertools import product\n",
    "\n",
    "import seaborn as sns\n",
    "\n",
<<<<<<< HEAD:tim_dwyer_la_4/notebooks/cleaning.ipynb
    "traincsv = '../data/train.csv'\n",
=======
    "traincsv = '../../data/kaggle_files/train.csv'\n",
>>>>>>> e6982e22e3710b882e39b6038a48b827d17e8ff1:tim_dwyer_la_4/notebooks/cleaning/cleaning.ipynb
    "df = pd.read_csv(traincsv, index_col='Id')"
   ]
  },
  {
   "cell_type": "code",
   "execution_count": 2,
   "metadata": {
    "scrolled": false
   },
   "outputs": [
    {
     "data": {
      "text/html": [
       "<div>\n",
       "<table border=\"1\" class=\"dataframe\">\n",
       "  <thead>\n",
       "    <tr style=\"text-align: right;\">\n",
       "      <th></th>\n",
       "      <th>PID</th>\n",
       "      <th>MS SubClass</th>\n",
       "      <th>MS Zoning</th>\n",
       "      <th>Lot Frontage</th>\n",
       "      <th>Lot Area</th>\n",
       "      <th>Street</th>\n",
       "      <th>Alley</th>\n",
       "      <th>Lot Shape</th>\n",
       "      <th>Land Contour</th>\n",
       "      <th>Utilities</th>\n",
       "      <th>...</th>\n",
       "      <th>Screen Porch</th>\n",
       "      <th>Pool Area</th>\n",
       "      <th>Pool QC</th>\n",
       "      <th>Fence</th>\n",
       "      <th>Misc Feature</th>\n",
       "      <th>Misc Val</th>\n",
       "      <th>Mo Sold</th>\n",
       "      <th>Yr Sold</th>\n",
       "      <th>Sale Type</th>\n",
       "      <th>SalePrice</th>\n",
       "    </tr>\n",
       "    <tr>\n",
       "      <th>Id</th>\n",
       "      <th></th>\n",
       "      <th></th>\n",
       "      <th></th>\n",
       "      <th></th>\n",
       "      <th></th>\n",
       "      <th></th>\n",
       "      <th></th>\n",
       "      <th></th>\n",
       "      <th></th>\n",
       "      <th></th>\n",
       "      <th></th>\n",
       "      <th></th>\n",
       "      <th></th>\n",
       "      <th></th>\n",
       "      <th></th>\n",
       "      <th></th>\n",
       "      <th></th>\n",
       "      <th></th>\n",
       "      <th></th>\n",
       "      <th></th>\n",
       "      <th></th>\n",
       "    </tr>\n",
       "  </thead>\n",
       "  <tbody>\n",
       "    <tr>\n",
       "      <th>109</th>\n",
       "      <td>533352170</td>\n",
       "      <td>60</td>\n",
       "      <td>RL</td>\n",
       "      <td>NaN</td>\n",
       "      <td>13517</td>\n",
       "      <td>Pave</td>\n",
       "      <td>NaN</td>\n",
       "      <td>IR1</td>\n",
       "      <td>Lvl</td>\n",
       "      <td>AllPub</td>\n",
       "      <td>...</td>\n",
       "      <td>0</td>\n",
       "      <td>0</td>\n",
       "      <td>NaN</td>\n",
       "      <td>NaN</td>\n",
       "      <td>NaN</td>\n",
       "      <td>0</td>\n",
       "      <td>3</td>\n",
       "      <td>2010</td>\n",
       "      <td>WD</td>\n",
       "      <td>130500</td>\n",
       "    </tr>\n",
       "    <tr>\n",
       "      <th>544</th>\n",
       "      <td>531379050</td>\n",
       "      <td>60</td>\n",
       "      <td>RL</td>\n",
       "      <td>43.0</td>\n",
       "      <td>11492</td>\n",
       "      <td>Pave</td>\n",
       "      <td>NaN</td>\n",
       "      <td>IR1</td>\n",
       "      <td>Lvl</td>\n",
       "      <td>AllPub</td>\n",
       "      <td>...</td>\n",
       "      <td>0</td>\n",
       "      <td>0</td>\n",
       "      <td>NaN</td>\n",
       "      <td>NaN</td>\n",
       "      <td>NaN</td>\n",
       "      <td>0</td>\n",
       "      <td>4</td>\n",
       "      <td>2009</td>\n",
       "      <td>WD</td>\n",
       "      <td>220000</td>\n",
       "    </tr>\n",
       "    <tr>\n",
       "      <th>153</th>\n",
       "      <td>535304180</td>\n",
       "      <td>20</td>\n",
       "      <td>RL</td>\n",
       "      <td>68.0</td>\n",
       "      <td>7922</td>\n",
       "      <td>Pave</td>\n",
       "      <td>NaN</td>\n",
       "      <td>Reg</td>\n",
       "      <td>Lvl</td>\n",
       "      <td>AllPub</td>\n",
       "      <td>...</td>\n",
       "      <td>0</td>\n",
       "      <td>0</td>\n",
       "      <td>NaN</td>\n",
       "      <td>NaN</td>\n",
       "      <td>NaN</td>\n",
       "      <td>0</td>\n",
       "      <td>1</td>\n",
       "      <td>2010</td>\n",
       "      <td>WD</td>\n",
       "      <td>109000</td>\n",
       "    </tr>\n",
       "    <tr>\n",
       "      <th>318</th>\n",
       "      <td>916386060</td>\n",
       "      <td>60</td>\n",
       "      <td>RL</td>\n",
       "      <td>73.0</td>\n",
       "      <td>9802</td>\n",
       "      <td>Pave</td>\n",
       "      <td>NaN</td>\n",
       "      <td>Reg</td>\n",
       "      <td>Lvl</td>\n",
       "      <td>AllPub</td>\n",
       "      <td>...</td>\n",
       "      <td>0</td>\n",
       "      <td>0</td>\n",
       "      <td>NaN</td>\n",
       "      <td>NaN</td>\n",
       "      <td>NaN</td>\n",
       "      <td>0</td>\n",
       "      <td>4</td>\n",
       "      <td>2010</td>\n",
       "      <td>WD</td>\n",
       "      <td>174000</td>\n",
       "    </tr>\n",
       "    <tr>\n",
       "      <th>255</th>\n",
       "      <td>906425045</td>\n",
       "      <td>50</td>\n",
       "      <td>RL</td>\n",
       "      <td>82.0</td>\n",
       "      <td>14235</td>\n",
       "      <td>Pave</td>\n",
       "      <td>NaN</td>\n",
       "      <td>IR1</td>\n",
       "      <td>Lvl</td>\n",
       "      <td>AllPub</td>\n",
       "      <td>...</td>\n",
       "      <td>0</td>\n",
       "      <td>0</td>\n",
       "      <td>NaN</td>\n",
       "      <td>NaN</td>\n",
       "      <td>NaN</td>\n",
       "      <td>0</td>\n",
       "      <td>3</td>\n",
       "      <td>2010</td>\n",
       "      <td>WD</td>\n",
       "      <td>138500</td>\n",
       "    </tr>\n",
       "  </tbody>\n",
       "</table>\n",
       "<p>5 rows × 80 columns</p>\n",
       "</div>"
      ],
      "text/plain": [
       "           PID  MS SubClass MS Zoning  Lot Frontage  Lot Area Street Alley  \\\n",
       "Id                                                                           \n",
       "109  533352170           60        RL           NaN     13517   Pave   NaN   \n",
       "544  531379050           60        RL          43.0     11492   Pave   NaN   \n",
       "153  535304180           20        RL          68.0      7922   Pave   NaN   \n",
       "318  916386060           60        RL          73.0      9802   Pave   NaN   \n",
       "255  906425045           50        RL          82.0     14235   Pave   NaN   \n",
       "\n",
       "    Lot Shape Land Contour Utilities    ...     Screen Porch Pool Area  \\\n",
       "Id                                      ...                              \n",
       "109       IR1          Lvl    AllPub    ...                0         0   \n",
       "544       IR1          Lvl    AllPub    ...                0         0   \n",
       "153       Reg          Lvl    AllPub    ...                0         0   \n",
       "318       Reg          Lvl    AllPub    ...                0         0   \n",
       "255       IR1          Lvl    AllPub    ...                0         0   \n",
       "\n",
       "    Pool QC Fence Misc Feature Misc Val Mo Sold  Yr Sold  Sale Type  SalePrice  \n",
       "Id                                                                              \n",
       "109     NaN   NaN          NaN        0       3     2010        WD      130500  \n",
       "544     NaN   NaN          NaN        0       4     2009        WD      220000  \n",
       "153     NaN   NaN          NaN        0       1     2010        WD      109000  \n",
       "318     NaN   NaN          NaN        0       4     2010        WD      174000  \n",
       "255     NaN   NaN          NaN        0       3     2010        WD      138500  \n",
       "\n",
       "[5 rows x 80 columns]"
      ]
     },
     "execution_count": 2,
     "metadata": {},
     "output_type": "execute_result"
    }
   ],
   "source": [
    "df.head()"
   ]
  },
  {
   "cell_type": "code",
   "execution_count": 3,
   "metadata": {},
   "outputs": [],
   "source": [
    "df.columns = df.columns.map(lambda col: col.replace(' ','_').lower())\n",
    "df.index.name = 'id'"
   ]
  },
  {
   "cell_type": "markdown",
   "metadata": {},
   "source": [
    "Let's drop the PID."
   ]
  },
  {
   "cell_type": "code",
   "execution_count": 4,
   "metadata": {},
   "outputs": [],
   "source": [
    "df.drop('pid', axis=1, inplace=True)"
   ]
  },
  {
   "cell_type": "code",
   "execution_count": 5,
   "metadata": {},
   "outputs": [
    {
     "name": "stdout",
     "output_type": "stream",
     "text": [
      "<class 'pandas.core.frame.DataFrame'>\n",
      "Int64Index: 2051 entries, 109 to 10\n",
      "Data columns (total 79 columns):\n",
      "ms_subclass        2051 non-null int64\n",
      "ms_zoning          2051 non-null object\n",
      "lot_frontage       1721 non-null float64\n",
      "lot_area           2051 non-null int64\n",
      "street             2051 non-null object\n",
      "alley              140 non-null object\n",
      "lot_shape          2051 non-null object\n",
      "land_contour       2051 non-null object\n",
      "utilities          2051 non-null object\n",
      "lot_config         2051 non-null object\n",
      "land_slope         2051 non-null object\n",
      "neighborhood       2051 non-null object\n",
      "condition_1        2051 non-null object\n",
      "condition_2        2051 non-null object\n",
      "bldg_type          2051 non-null object\n",
      "house_style        2051 non-null object\n",
      "overall_qual       2051 non-null int64\n",
      "overall_cond       2051 non-null int64\n",
      "year_built         2051 non-null int64\n",
      "year_remod/add     2051 non-null int64\n",
      "roof_style         2051 non-null object\n",
      "roof_matl          2051 non-null object\n",
      "exterior_1st       2051 non-null object\n",
      "exterior_2nd       2051 non-null object\n",
      "mas_vnr_type       2029 non-null object\n",
      "mas_vnr_area       2029 non-null float64\n",
      "exter_qual         2051 non-null object\n",
      "exter_cond         2051 non-null object\n",
      "foundation         2051 non-null object\n",
      "bsmt_qual          1996 non-null object\n",
      "bsmt_cond          1996 non-null object\n",
      "bsmt_exposure      1993 non-null object\n",
      "bsmtfin_type_1     1996 non-null object\n",
      "bsmtfin_sf_1       2050 non-null float64\n",
      "bsmtfin_type_2     1995 non-null object\n",
      "bsmtfin_sf_2       2050 non-null float64\n",
      "bsmt_unf_sf        2050 non-null float64\n",
      "total_bsmt_sf      2050 non-null float64\n",
      "heating            2051 non-null object\n",
      "heating_qc         2051 non-null object\n",
      "central_air        2051 non-null object\n",
      "electrical         2051 non-null object\n",
      "1st_flr_sf         2051 non-null int64\n",
      "2nd_flr_sf         2051 non-null int64\n",
      "low_qual_fin_sf    2051 non-null int64\n",
      "gr_liv_area        2051 non-null int64\n",
      "bsmt_full_bath     2049 non-null float64\n",
      "bsmt_half_bath     2049 non-null float64\n",
      "full_bath          2051 non-null int64\n",
      "half_bath          2051 non-null int64\n",
      "bedroom_abvgr      2051 non-null int64\n",
      "kitchen_abvgr      2051 non-null int64\n",
      "kitchen_qual       2051 non-null object\n",
      "totrms_abvgrd      2051 non-null int64\n",
      "functional         2051 non-null object\n",
      "fireplaces         2051 non-null int64\n",
      "fireplace_qu       1051 non-null object\n",
      "garage_type        1938 non-null object\n",
      "garage_yr_blt      1937 non-null float64\n",
      "garage_finish      1937 non-null object\n",
      "garage_cars        2050 non-null float64\n",
      "garage_area        2050 non-null float64\n",
      "garage_qual        1937 non-null object\n",
      "garage_cond        1937 non-null object\n",
      "paved_drive        2051 non-null object\n",
      "wood_deck_sf       2051 non-null int64\n",
      "open_porch_sf      2051 non-null int64\n",
      "enclosed_porch     2051 non-null int64\n",
      "3ssn_porch         2051 non-null int64\n",
      "screen_porch       2051 non-null int64\n",
      "pool_area          2051 non-null int64\n",
      "pool_qc            9 non-null object\n",
      "fence              400 non-null object\n",
      "misc_feature       65 non-null object\n",
      "misc_val           2051 non-null int64\n",
      "mo_sold            2051 non-null int64\n",
      "yr_sold            2051 non-null int64\n",
      "sale_type          2051 non-null object\n",
      "saleprice          2051 non-null int64\n",
      "dtypes: float64(11), int64(26), object(42)\n",
      "memory usage: 1.3+ MB\n"
     ]
    }
   ],
   "source": [
    "df.info()"
   ]
  },
  {
   "cell_type": "markdown",
   "metadata": {},
   "source": [
    "The `ms_subclass` column should be an object, the numbers are just weird codes for various styles of home. This is not a persistent change in the sense that it won't change what happens when the saved CSV is read by pandas, ie I'll have to do this change again when reading the file back into a dataframe, but I'll do it here so I remember to in the future."
   ]
  },
  {
   "cell_type": "code",
   "execution_count": 6,
   "metadata": {},
   "outputs": [],
   "source": [
    "df['ms_subclass'] = df['ms_subclass'].astype('object').map(str)"
   ]
  },
  {
   "cell_type": "markdown",
   "metadata": {},
   "source": [
    "Some columns encode the same information. For example there are a number of columns encoding information about the garage. Accoding to the documentation these columns are supposed to be be empty when there is no garage present. So if all of these columns are empty, we'll fill them with a string declaring that that indicates that the garage is missing. \n",
    "\n",
    "However if some of these columns have values but some do not, for example `Garage Finish` has a value but `Garage Cond` does not, we will drop that row. Some missing entries and some present indicates an error in the row. I'm going to ignore `Garage Yr Blt` for now and handle it at the end since I'm not sure what value it should actually take."
   ]
  },
  {
   "cell_type": "markdown",
   "metadata": {},
   "source": [
    "Fix the `pool_qc`, `misc_feature`, `alley`, `fence`, `fireplace_qe`"
   ]
  },
  {
   "cell_type": "code",
   "execution_count": 7,
   "metadata": {},
   "outputs": [],
   "source": [
    "df['pool_qc'].fillna(value='No Pool', inplace=True)\n",
    "df['misc_feature'].fillna(value='No Misc Feature', inplace=True)\n",
    "df['alley'].fillna(value='No Alley', inplace=True)\n",
    "df['fence'].fillna(value='No Fence', inplace=True)\n",
    "df['fireplace_qu'].fillna(value='No Fireplace', inplace=True)"
   ]
  },
  {
   "cell_type": "code",
   "execution_count": 8,
   "metadata": {
    "scrolled": false
   },
   "outputs": [
    {
     "data": {
      "text/plain": [
       "lot_frontage     330\n",
       "garage_yr_blt    114\n",
       "garage_finish    114\n",
       "garage_qual      114\n",
       "garage_cond      114\n",
       "dtype: int64"
      ]
     },
     "execution_count": 8,
     "metadata": {},
     "output_type": "execute_result"
    }
   ],
   "source": [
    "df.isnull().sum().sort_values(ascending=False).head()"
   ]
  },
  {
   "cell_type": "code",
   "execution_count": 9,
   "metadata": {},
   "outputs": [],
   "source": [
    "#keeps rows with no missing info, keeps rows which are missing every entry in the specified columns\n",
    "#drops all the other rows, fills the missing entries with the new_value\n",
    "\n",
    "def frame_column_filler(df, columns, new_value, inplace=False):\n",
    "    if not inplace:\n",
    "        tmp_df = df.copy()\n",
    "    else:\n",
    "        tmp_df = df\n",
    "    \n",
    "    num_nan = tmp_df[columns].isnull().sum(1)\n",
    "    \n",
    "    all_nan = set(num_nan[num_nan.apply(lambda x: x == len(columns))].index)\n",
    "    no_nan = set(num_nan[num_nan.apply(lambda x: x == 0)].index)\n",
    "    some_missing = {x for x in tmp_df.index if x not in all_nan.union(no_nan)}\n",
    "    \n",
    "    \n",
    "    for index in tmp_df.index:\n",
    "        if index in all_nan:\n",
    "            for col in columns:\n",
    "                tmp_df.at[index, col] = new_value\n",
    "        elif index in some_missing:\n",
    "            tmp_df.drop(index, inplace=True)\n",
    "        \n",
    "    if not inplace:\n",
    "        return tmp_df"
   ]
  },
  {
   "cell_type": "code",
   "execution_count": 10,
   "metadata": {},
   "outputs": [],
   "source": [
    "garage_cols = ['garage_cond', 'garage_qual', 'garage_finish', 'garage_type']\n",
    "frame_column_filler(df, garage_cols, 'No Garage', inplace=True)"
   ]
  },
  {
   "cell_type": "code",
   "execution_count": 11,
   "metadata": {
    "scrolled": false
   },
   "outputs": [
    {
     "data": {
      "text/plain": [
       "lot_frontage      330\n",
       "garage_yr_blt     113\n",
       "bsmt_exposure      58\n",
       "bsmtfin_type_2     56\n",
       "bsmtfin_type_1     55\n",
       "dtype: int64"
      ]
     },
     "execution_count": 11,
     "metadata": {},
     "output_type": "execute_result"
    }
   ],
   "source": [
    "df.isnull().sum().sort_values(ascending=False).head()"
   ]
  },
  {
   "cell_type": "markdown",
   "metadata": {},
   "source": [
    "I'm going to drop the `Garage Yr Blt` now and see how well we can do without it. I would think that newer garages would maybe be menaingful, but I'm not sure how to encode this column for those houses without a garage."
   ]
  },
  {
   "cell_type": "code",
   "execution_count": 12,
   "metadata": {},
   "outputs": [],
   "source": [
    "df.drop('garage_yr_blt', axis=1, inplace=True)"
   ]
  },
  {
   "cell_type": "code",
   "execution_count": 13,
   "metadata": {},
   "outputs": [],
   "source": [
    "basement_cols = ['bsmt_exposure', 'bsmtfin_type_2', 'bsmt_cond', 'bsmt_qual','bsmtfin_type_1']\n",
    "frame_column_filler(df, basement_cols, 'No Basement', inplace=True)"
   ]
  },
  {
   "cell_type": "code",
   "execution_count": 14,
   "metadata": {},
   "outputs": [
    {
     "data": {
      "text/plain": [
       "No             1337\n",
       "Av              288\n",
       "Gd              203\n",
       "Mn              163\n",
       "No Basement      55\n",
       "Name: bsmt_exposure, dtype: int64"
      ]
     },
     "execution_count": 14,
     "metadata": {},
     "output_type": "execute_result"
    }
   ],
   "source": [
    "df['bsmt_exposure'].value_counts()"
   ]
  },
  {
   "cell_type": "code",
   "execution_count": 15,
   "metadata": {
    "scrolled": true
   },
   "outputs": [
    {
     "data": {
      "text/plain": [
       "lot_frontage      330\n",
       "mas_vnr_type       22\n",
       "mas_vnr_area       22\n",
       "bsmt_full_bath      2\n",
       "bsmt_half_bath      2\n",
       "dtype: int64"
      ]
     },
     "execution_count": 15,
     "metadata": {},
     "output_type": "execute_result"
    }
   ],
   "source": [
    "df.isnull().sum().sort_values(ascending=False).head()"
   ]
  },
  {
   "cell_type": "code",
   "execution_count": 16,
   "metadata": {
    "scrolled": false
   },
   "outputs": [
    {
     "data": {
      "text/html": [
       "<div>\n",
       "<table border=\"1\" class=\"dataframe\">\n",
       "  <thead>\n",
       "    <tr style=\"text-align: right;\">\n",
       "      <th></th>\n",
       "      <th>mas_vnr_area</th>\n",
       "      <th>mas_vnr_type</th>\n",
       "    </tr>\n",
       "    <tr>\n",
       "      <th>id</th>\n",
       "      <th></th>\n",
       "      <th></th>\n",
       "    </tr>\n",
       "  </thead>\n",
       "  <tbody>\n",
       "    <tr>\n",
       "      <th>2393</th>\n",
       "      <td>NaN</td>\n",
       "      <td>NaN</td>\n",
       "    </tr>\n",
       "    <tr>\n",
       "      <th>2383</th>\n",
       "      <td>NaN</td>\n",
       "      <td>NaN</td>\n",
       "    </tr>\n",
       "    <tr>\n",
       "      <th>539</th>\n",
       "      <td>NaN</td>\n",
       "      <td>NaN</td>\n",
       "    </tr>\n",
       "    <tr>\n",
       "      <th>518</th>\n",
       "      <td>NaN</td>\n",
       "      <td>NaN</td>\n",
       "    </tr>\n",
       "    <tr>\n",
       "      <th>2824</th>\n",
       "      <td>NaN</td>\n",
       "      <td>NaN</td>\n",
       "    </tr>\n",
       "    <tr>\n",
       "      <th>1800</th>\n",
       "      <td>NaN</td>\n",
       "      <td>NaN</td>\n",
       "    </tr>\n",
       "    <tr>\n",
       "      <th>1455</th>\n",
       "      <td>NaN</td>\n",
       "      <td>NaN</td>\n",
       "    </tr>\n",
       "    <tr>\n",
       "      <th>1120</th>\n",
       "      <td>NaN</td>\n",
       "      <td>NaN</td>\n",
       "    </tr>\n",
       "    <tr>\n",
       "      <th>1841</th>\n",
       "      <td>NaN</td>\n",
       "      <td>NaN</td>\n",
       "    </tr>\n",
       "    <tr>\n",
       "      <th>1840</th>\n",
       "      <td>NaN</td>\n",
       "      <td>NaN</td>\n",
       "    </tr>\n",
       "    <tr>\n",
       "      <th>2230</th>\n",
       "      <td>NaN</td>\n",
       "      <td>NaN</td>\n",
       "    </tr>\n",
       "    <tr>\n",
       "      <th>1123</th>\n",
       "      <td>NaN</td>\n",
       "      <td>NaN</td>\n",
       "    </tr>\n",
       "    <tr>\n",
       "      <th>1784</th>\n",
       "      <td>NaN</td>\n",
       "      <td>NaN</td>\n",
       "    </tr>\n",
       "    <tr>\n",
       "      <th>485</th>\n",
       "      <td>NaN</td>\n",
       "      <td>NaN</td>\n",
       "    </tr>\n",
       "    <tr>\n",
       "      <th>1752</th>\n",
       "      <td>NaN</td>\n",
       "      <td>NaN</td>\n",
       "    </tr>\n",
       "    <tr>\n",
       "      <th>1185</th>\n",
       "      <td>NaN</td>\n",
       "      <td>NaN</td>\n",
       "    </tr>\n",
       "    <tr>\n",
       "      <th>1128</th>\n",
       "      <td>NaN</td>\n",
       "      <td>NaN</td>\n",
       "    </tr>\n",
       "    <tr>\n",
       "      <th>1096</th>\n",
       "      <td>NaN</td>\n",
       "      <td>NaN</td>\n",
       "    </tr>\n",
       "    <tr>\n",
       "      <th>2261</th>\n",
       "      <td>NaN</td>\n",
       "      <td>NaN</td>\n",
       "    </tr>\n",
       "    <tr>\n",
       "      <th>2456</th>\n",
       "      <td>NaN</td>\n",
       "      <td>NaN</td>\n",
       "    </tr>\n",
       "    <tr>\n",
       "      <th>1728</th>\n",
       "      <td>NaN</td>\n",
       "      <td>NaN</td>\n",
       "    </tr>\n",
       "    <tr>\n",
       "      <th>56</th>\n",
       "      <td>NaN</td>\n",
       "      <td>NaN</td>\n",
       "    </tr>\n",
       "  </tbody>\n",
       "</table>\n",
       "</div>"
      ],
      "text/plain": [
       "      mas_vnr_area mas_vnr_type\n",
       "id                             \n",
       "2393           NaN          NaN\n",
       "2383           NaN          NaN\n",
       "539            NaN          NaN\n",
       "518            NaN          NaN\n",
       "2824           NaN          NaN\n",
       "1800           NaN          NaN\n",
       "1455           NaN          NaN\n",
       "1120           NaN          NaN\n",
       "1841           NaN          NaN\n",
       "1840           NaN          NaN\n",
       "2230           NaN          NaN\n",
       "1123           NaN          NaN\n",
       "1784           NaN          NaN\n",
       "485            NaN          NaN\n",
       "1752           NaN          NaN\n",
       "1185           NaN          NaN\n",
       "1128           NaN          NaN\n",
       "1096           NaN          NaN\n",
       "2261           NaN          NaN\n",
       "2456           NaN          NaN\n",
       "1728           NaN          NaN\n",
       "56             NaN          NaN"
      ]
     },
     "execution_count": 16,
     "metadata": {},
     "output_type": "execute_result"
    }
   ],
   "source": [
    "masonry_cols = ['mas_vnr_area', 'mas_vnr_type']\n",
    "df[df['mas_vnr_type'].isnull()]['mas_vnr_area']\n",
    "df[(df['mas_vnr_type'].isnull())][masonry_cols]"
   ]
  },
  {
   "cell_type": "code",
   "execution_count": 17,
   "metadata": {},
   "outputs": [
    {
     "data": {
      "text/html": [
       "<div>\n",
       "<table border=\"1\" class=\"dataframe\">\n",
       "  <thead>\n",
       "    <tr style=\"text-align: right;\">\n",
       "      <th></th>\n",
       "      <th>mas_vnr_area</th>\n",
       "      <th>mas_vnr_type</th>\n",
       "    </tr>\n",
       "    <tr>\n",
       "      <th>id</th>\n",
       "      <th></th>\n",
       "      <th></th>\n",
       "    </tr>\n",
       "  </thead>\n",
       "  <tbody>\n",
       "    <tr>\n",
       "      <th>364</th>\n",
       "      <td>344.0</td>\n",
       "      <td>None</td>\n",
       "    </tr>\n",
       "    <tr>\n",
       "      <th>2529</th>\n",
       "      <td>288.0</td>\n",
       "      <td>None</td>\n",
       "    </tr>\n",
       "    <tr>\n",
       "      <th>1862</th>\n",
       "      <td>1.0</td>\n",
       "      <td>None</td>\n",
       "    </tr>\n",
       "    <tr>\n",
       "      <th>1914</th>\n",
       "      <td>1.0</td>\n",
       "      <td>None</td>\n",
       "    </tr>\n",
       "    <tr>\n",
       "      <th>2004</th>\n",
       "      <td>1.0</td>\n",
       "      <td>None</td>\n",
       "    </tr>\n",
       "    <tr>\n",
       "      <th>153</th>\n",
       "      <td>0.0</td>\n",
       "      <td>None</td>\n",
       "    </tr>\n",
       "  </tbody>\n",
       "</table>\n",
       "</div>"
      ],
      "text/plain": [
       "      mas_vnr_area mas_vnr_type\n",
       "id                             \n",
       "364          344.0         None\n",
       "2529         288.0         None\n",
       "1862           1.0         None\n",
       "1914           1.0         None\n",
       "2004           1.0         None\n",
       "153            0.0         None"
      ]
     },
     "execution_count": 17,
     "metadata": {},
     "output_type": "execute_result"
    }
   ],
   "source": [
    "df[df['mas_vnr_type'] == 'None'][masonry_cols].sort_values(by='mas_vnr_area', ascending=False).head(6)"
   ]
  },
  {
   "cell_type": "markdown",
   "metadata": {},
   "source": [
    "I think this is an error, so I'll drop those 5 at the top. I'll also drop the ones where one of the masonry entries is `NaN` since I'm not sure what thsoe ought to be otherwise, then we'll also drop the rows with missing masonry info."
   ]
  },
  {
   "cell_type": "code",
   "execution_count": 18,
   "metadata": {},
   "outputs": [],
   "source": [
    "df.drop([364, 2529, 1862, 1914, 2004], inplace=True)"
   ]
  },
  {
   "cell_type": "code",
   "execution_count": 19,
   "metadata": {},
   "outputs": [],
   "source": [
    "df = df[~df['mas_vnr_type'].isnull() ]"
   ]
  },
  {
   "cell_type": "code",
   "execution_count": 20,
   "metadata": {
    "scrolled": false
   },
   "outputs": [
    {
     "data": {
      "text/plain": [
       "lot_frontage      322\n",
       "bsmt_full_bath      2\n",
       "bsmt_half_bath      2\n",
       "bsmtfin_sf_1        1\n",
       "bsmt_unf_sf         1\n",
       "bsmtfin_sf_2        1\n",
       "total_bsmt_sf       1\n",
       "bsmtfin_type_2      0\n",
       "bsmtfin_type_1      0\n",
       "bsmt_exposure       0\n",
       "dtype: int64"
      ]
     },
     "execution_count": 20,
     "metadata": {},
     "output_type": "execute_result"
    }
   ],
   "source": [
    "df.isnull().sum().sort_values(ascending=False).head(10)"
   ]
  },
  {
   "cell_type": "markdown",
   "metadata": {},
   "source": [
    "The final rows that I believe are true errors in the missing values are the ones below `Lot Frontage`. We'll drop those rows now, then impute values for `Lot Frontage` based on `MS SubClass`."
   ]
  },
  {
   "cell_type": "code",
   "execution_count": 21,
   "metadata": {},
   "outputs": [],
   "source": [
    "mask = df[[col for col in df.columns if col != 'lot_frontage']].isnull().sum(1).astype(bool)"
   ]
  },
  {
   "cell_type": "code",
   "execution_count": 22,
   "metadata": {},
   "outputs": [],
   "source": [
    "df = df[~mask]"
   ]
  },
  {
   "cell_type": "code",
   "execution_count": 23,
   "metadata": {},
   "outputs": [
    {
     "data": {
      "text/plain": [
       "lot_frontage    322\n",
       "saleprice         0\n",
       "foundation        0\n",
       "roof_matl         0\n",
       "exterior_1st      0\n",
       "dtype: int64"
      ]
     },
     "execution_count": 23,
     "metadata": {},
     "output_type": "execute_result"
    }
   ],
   "source": [
    "df.isnull().sum().sort_values(ascending=False).head(5)"
   ]
  },
  {
   "cell_type": "code",
   "execution_count": 24,
   "metadata": {
    "scrolled": false
   },
   "outputs": [
    {
     "data": {
      "text/plain": [
<<<<<<< HEAD
       "<matplotlib.axes._subplots.AxesSubplot at 0x7fb058512550>"
=======
<<<<<<< HEAD:tim_dwyer_la_4/notebooks/cleaning.ipynb
       "<matplotlib.axes._subplots.AxesSubplot at 0x111d57128>"
=======
       "<matplotlib.axes._subplots.AxesSubplot at 0x7fbecedd2550>"
>>>>>>> e6982e22e3710b882e39b6038a48b827d17e8ff1:tim_dwyer_la_4/notebooks/cleaning/cleaning.ipynb
>>>>>>> f5b4411b8d99a1c3ac99d181a1a1695e6c0b6cf7
      ]
     },
     "execution_count": 24,
     "metadata": {},
     "output_type": "execute_result"
    },
    {
     "data": {
      "image/png": "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\n",
      "text/plain": [
       "<matplotlib.figure.Figure at 0x7fb02bb2fc18>"
      ]
     },
     "metadata": {},
     "output_type": "display_data"
    }
   ],
   "source": [
    "sns.boxplot(x='lot_frontage', y='ms_subclass', data=df, orient='h')"
   ]
  },
  {
   "cell_type": "markdown",
   "metadata": {},
   "source": [
    "The values for `Lot Frontage` is very skewed even when grouped by `MS SubClass`, we'll replace all the missing values with the medians from that group."
   ]
  },
  {
   "cell_type": "code",
   "execution_count": 25,
   "metadata": {
    "scrolled": false
   },
   "outputs": [
    {
     "data": {
      "text/html": [
       "<div>\n",
       "<table border=\"1\" class=\"dataframe\">\n",
       "  <thead>\n",
       "    <tr style=\"text-align: right;\">\n",
       "      <th></th>\n",
       "      <th>lot_frontage</th>\n",
       "    </tr>\n",
       "    <tr>\n",
       "      <th>ms_subclass</th>\n",
       "      <th></th>\n",
       "    </tr>\n",
       "  </thead>\n",
       "  <tbody>\n",
       "    <tr>\n",
       "      <th>120</th>\n",
       "      <td>43.0</td>\n",
       "    </tr>\n",
       "    <tr>\n",
       "      <th>150</th>\n",
       "      <td>NaN</td>\n",
       "    </tr>\n",
       "    <tr>\n",
       "      <th>160</th>\n",
       "      <td>24.0</td>\n",
       "    </tr>\n",
       "    <tr>\n",
       "      <th>180</th>\n",
       "      <td>21.0</td>\n",
       "    </tr>\n",
       "    <tr>\n",
       "      <th>190</th>\n",
       "      <td>65.0</td>\n",
       "    </tr>\n",
       "    <tr>\n",
       "      <th>20</th>\n",
       "      <td>75.0</td>\n",
       "    </tr>\n",
       "    <tr>\n",
       "      <th>30</th>\n",
       "      <td>60.0</td>\n",
       "    </tr>\n",
       "    <tr>\n",
       "      <th>40</th>\n",
       "      <td>52.5</td>\n",
       "    </tr>\n",
       "    <tr>\n",
       "      <th>45</th>\n",
       "      <td>51.0</td>\n",
       "    </tr>\n",
       "    <tr>\n",
       "      <th>50</th>\n",
       "      <td>60.0</td>\n",
       "    </tr>\n",
       "    <tr>\n",
       "      <th>60</th>\n",
       "      <td>75.0</td>\n",
       "    </tr>\n",
       "    <tr>\n",
       "      <th>70</th>\n",
       "      <td>60.0</td>\n",
       "    </tr>\n",
       "    <tr>\n",
       "      <th>75</th>\n",
       "      <td>65.0</td>\n",
       "    </tr>\n",
       "    <tr>\n",
       "      <th>80</th>\n",
       "      <td>78.0</td>\n",
       "    </tr>\n",
       "    <tr>\n",
       "      <th>85</th>\n",
       "      <td>70.0</td>\n",
       "    </tr>\n",
       "    <tr>\n",
       "      <th>90</th>\n",
       "      <td>70.0</td>\n",
       "    </tr>\n",
       "  </tbody>\n",
       "</table>\n",
       "</div>"
      ],
      "text/plain": [
       "             lot_frontage\n",
       "ms_subclass              \n",
       "120                  43.0\n",
       "150                   NaN\n",
       "160                  24.0\n",
       "180                  21.0\n",
       "190                  65.0\n",
       "20                   75.0\n",
       "30                   60.0\n",
       "40                   52.5\n",
       "45                   51.0\n",
       "50                   60.0\n",
       "60                   75.0\n",
       "70                   60.0\n",
       "75                   65.0\n",
       "80                   78.0\n",
       "85                   70.0\n",
       "90                   70.0"
      ]
     },
     "execution_count": 25,
     "metadata": {},
     "output_type": "execute_result"
    }
   ],
   "source": [
    "df[['lot_frontage', 'ms_subclass']].groupby('ms_subclass').agg(np.median)"
   ]
  },
  {
   "cell_type": "markdown",
   "metadata": {},
   "source": [
    "There's a missing median! "
   ]
  },
  {
   "cell_type": "code",
   "execution_count": 26,
   "metadata": {
    "scrolled": true
   },
   "outputs": [
    {
     "data": {
      "text/html": [
       "<div>\n",
       "<table border=\"1\" class=\"dataframe\">\n",
       "  <thead>\n",
       "    <tr style=\"text-align: right;\">\n",
       "      <th></th>\n",
       "      <th>ms_subclass</th>\n",
       "      <th>ms_zoning</th>\n",
       "      <th>lot_frontage</th>\n",
       "      <th>lot_area</th>\n",
       "      <th>street</th>\n",
       "      <th>alley</th>\n",
       "      <th>lot_shape</th>\n",
       "      <th>land_contour</th>\n",
       "      <th>utilities</th>\n",
       "      <th>lot_config</th>\n",
       "      <th>...</th>\n",
       "      <th>screen_porch</th>\n",
       "      <th>pool_area</th>\n",
       "      <th>pool_qc</th>\n",
       "      <th>fence</th>\n",
       "      <th>misc_feature</th>\n",
       "      <th>misc_val</th>\n",
       "      <th>mo_sold</th>\n",
       "      <th>yr_sold</th>\n",
       "      <th>sale_type</th>\n",
       "      <th>saleprice</th>\n",
       "    </tr>\n",
       "    <tr>\n",
       "      <th>id</th>\n",
       "      <th></th>\n",
       "      <th></th>\n",
       "      <th></th>\n",
       "      <th></th>\n",
       "      <th></th>\n",
       "      <th></th>\n",
       "      <th></th>\n",
       "      <th></th>\n",
       "      <th></th>\n",
       "      <th></th>\n",
       "      <th></th>\n",
       "      <th></th>\n",
       "      <th></th>\n",
       "      <th></th>\n",
       "      <th></th>\n",
       "      <th></th>\n",
       "      <th></th>\n",
       "      <th></th>\n",
       "      <th></th>\n",
       "      <th></th>\n",
       "      <th></th>\n",
       "    </tr>\n",
       "  </thead>\n",
       "  <tbody>\n",
       "    <tr>\n",
       "      <th>2731</th>\n",
       "      <td>150</td>\n",
       "      <td>RL</td>\n",
       "      <td>NaN</td>\n",
       "      <td>1700</td>\n",
       "      <td>Pave</td>\n",
       "      <td>No Alley</td>\n",
       "      <td>Reg</td>\n",
       "      <td>HLS</td>\n",
       "      <td>AllPub</td>\n",
       "      <td>Inside</td>\n",
       "      <td>...</td>\n",
       "      <td>200</td>\n",
       "      <td>0</td>\n",
       "      <td>No Pool</td>\n",
       "      <td>No Fence</td>\n",
       "      <td>No Misc Feature</td>\n",
       "      <td>0</td>\n",
       "      <td>4</td>\n",
       "      <td>2006</td>\n",
       "      <td>WD</td>\n",
       "      <td>148400</td>\n",
       "    </tr>\n",
       "  </tbody>\n",
       "</table>\n",
       "<p>1 rows × 78 columns</p>\n",
       "</div>"
      ],
      "text/plain": [
       "     ms_subclass ms_zoning  lot_frontage  lot_area street     alley lot_shape  \\\n",
       "id                                                                              \n",
       "2731         150        RL           NaN      1700   Pave  No Alley       Reg   \n",
       "\n",
       "     land_contour utilities lot_config    ...     screen_porch pool_area  \\\n",
       "id                                        ...                              \n",
       "2731          HLS    AllPub     Inside    ...              200         0   \n",
       "\n",
       "      pool_qc     fence     misc_feature misc_val  mo_sold  yr_sold  \\\n",
       "id                                                                    \n",
       "2731  No Pool  No Fence  No Misc Feature        0        4     2006   \n",
       "\n",
       "      sale_type  saleprice  \n",
       "id                          \n",
       "2731        WD      148400  \n",
       "\n",
       "[1 rows x 78 columns]"
      ]
     },
     "execution_count": 26,
     "metadata": {},
     "output_type": "execute_result"
    }
   ],
   "source": [
    "df[df['ms_subclass'] == '150']"
   ]
  },
  {
   "cell_type": "markdown",
   "metadata": {},
   "source": [
    "Hmm, well there's only one entry with `MS SubClass` equal to $150$, so we'll go ahead and drop it since we have nothing to put into `MS SubClass`. We will need ot be carful when we turn `MS SubClass` into a dummy variable since there could be codes for this column present in the test data that is not present in the training data. In fact, this is a general concern for categorified variables, so I just just keep this in mind generally. "
   ]
  },
  {
   "cell_type": "code",
   "execution_count": 27,
   "metadata": {},
   "outputs": [],
   "source": [
    " df = df[df['ms_subclass'] != '150']"
   ]
  },
  {
   "cell_type": "code",
   "execution_count": 28,
   "metadata": {},
   "outputs": [],
   "source": [
    "medians = df[['lot_frontage', 'ms_subclass']].groupby('ms_subclass').agg(np.median).copy()"
   ]
  },
  {
   "cell_type": "code",
   "execution_count": 29,
   "metadata": {},
   "outputs": [
    {
     "data": {
      "text/html": [
       "<div>\n",
<<<<<<< HEAD:tim_dwyer_la_4/notebooks/cleaning.ipynb
       "<style scoped>\n",
       "    .dataframe tbody tr th:only-of-type {\n",
       "        vertical-align: middle;\n",
       "    }\n",
       "\n",
       "    .dataframe tbody tr th {\n",
       "        vertical-align: top;\n",
       "    }\n",
       "\n",
       "    .dataframe thead th {\n",
       "        text-align: right;\n",
       "    }\n",
       "</style>\n",
=======
>>>>>>> e6982e22e3710b882e39b6038a48b827d17e8ff1:tim_dwyer_la_4/notebooks/cleaning/cleaning.ipynb
       "<table border=\"1\" class=\"dataframe\">\n",
       "  <thead>\n",
       "    <tr style=\"text-align: right;\">\n",
       "      <th></th>\n",
       "      <th>lot_frontage</th>\n",
       "    </tr>\n",
       "    <tr>\n",
       "      <th>ms_subclass</th>\n",
       "      <th></th>\n",
       "    </tr>\n",
       "  </thead>\n",
       "  <tbody>\n",
       "    <tr>\n",
       "      <th>120</th>\n",
       "      <td>43.0</td>\n",
       "    </tr>\n",
       "    <tr>\n",
       "      <th>160</th>\n",
       "      <td>24.0</td>\n",
       "    </tr>\n",
       "    <tr>\n",
       "      <th>180</th>\n",
       "      <td>21.0</td>\n",
       "    </tr>\n",
       "    <tr>\n",
       "      <th>190</th>\n",
       "      <td>65.0</td>\n",
       "    </tr>\n",
       "    <tr>\n",
       "      <th>20</th>\n",
       "      <td>75.0</td>\n",
       "    </tr>\n",
       "    <tr>\n",
       "      <th>30</th>\n",
       "      <td>60.0</td>\n",
       "    </tr>\n",
       "    <tr>\n",
       "      <th>40</th>\n",
       "      <td>52.5</td>\n",
       "    </tr>\n",
       "    <tr>\n",
       "      <th>45</th>\n",
       "      <td>51.0</td>\n",
       "    </tr>\n",
       "    <tr>\n",
       "      <th>50</th>\n",
       "      <td>60.0</td>\n",
       "    </tr>\n",
       "    <tr>\n",
       "      <th>60</th>\n",
       "      <td>75.0</td>\n",
       "    </tr>\n",
       "    <tr>\n",
       "      <th>70</th>\n",
       "      <td>60.0</td>\n",
       "    </tr>\n",
       "    <tr>\n",
       "      <th>75</th>\n",
       "      <td>65.0</td>\n",
       "    </tr>\n",
       "    <tr>\n",
       "      <th>80</th>\n",
       "      <td>78.0</td>\n",
       "    </tr>\n",
       "    <tr>\n",
       "      <th>85</th>\n",
       "      <td>70.0</td>\n",
       "    </tr>\n",
       "    <tr>\n",
       "      <th>90</th>\n",
       "      <td>70.0</td>\n",
       "    </tr>\n",
       "  </tbody>\n",
       "</table>\n",
       "</div>"
      ],
      "text/plain": [
       "             lot_frontage\n",
       "ms_subclass              \n",
       "120                  43.0\n",
       "160                  24.0\n",
       "180                  21.0\n",
       "190                  65.0\n",
       "20                   75.0\n",
       "30                   60.0\n",
       "40                   52.5\n",
       "45                   51.0\n",
       "50                   60.0\n",
       "60                   75.0\n",
       "70                   60.0\n",
       "75                   65.0\n",
       "80                   78.0\n",
       "85                   70.0\n",
       "90                   70.0"
      ]
     },
     "execution_count": 29,
     "metadata": {},
     "output_type": "execute_result"
    }
   ],
   "source": [
    "medians"
   ]
  },
  {
   "cell_type": "code",
   "execution_count": 30,
   "metadata": {},
   "outputs": [],
   "source": [
    "medians = {x:y[0] for x,y in zip(medians.index, medians.values)}"
   ]
  },
  {
   "cell_type": "code",
   "execution_count": 31,
   "metadata": {},
   "outputs": [],
   "source": [
    "for index, lf, ms_sub in df[['lot_frontage', 'ms_subclass']].to_records():\n",
    "    if np.isnan(lf):\n",
    "#         print(ms_sub)\n",
    "        df.at[index, 'lot_frontage'] = medians[ms_sub]\n"
   ]
  },
  {
   "cell_type": "code",
   "execution_count": 32,
   "metadata": {
    "scrolled": true
   },
   "outputs": [
    {
     "data": {
      "text/plain": [
       "saleprice       0\n",
       "foundation      0\n",
       "roof_matl       0\n",
       "exterior_1st    0\n",
       "exterior_2nd    0\n",
       "dtype: int64"
      ]
     },
     "execution_count": 32,
     "metadata": {},
     "output_type": "execute_result"
    }
   ],
   "source": [
    "df.isnull().sum().sort_values(ascending=False).head()"
   ]
  },
  {
   "cell_type": "code",
   "execution_count": 33,
   "metadata": {
    "scrolled": true
   },
   "outputs": [
    {
     "data": {
      "text/plain": [
       "(0, (2016, 78))"
      ]
     },
     "execution_count": 33,
     "metadata": {},
     "output_type": "execute_result"
    }
   ],
   "source": [
    "df.isnull().sum().sum(), df.shape"
   ]
  },
  {
   "cell_type": "markdown",
   "metadata": {},
   "source": [
    "No more missing data, let's go ahead and save it."
   ]
  },
  {
   "cell_type": "code",
   "execution_count": 34,
   "metadata": {},
   "outputs": [],
   "source": [
    "df.to_csv('../../data/cleaned/ames_clean.csv')"
   ]
  },
  {
   "cell_type": "markdown",
   "metadata": {},
   "source": [
    "There could still be lots of outliers or other just wrong data that needs to be removed. Hopefully this will be discovered in EDA."
   ]
  }
 ],
 "metadata": {
  "kernelspec": {
   "display_name": "Python 3",
   "language": "python",
   "name": "python3"
  },
  "language_info": {
   "codemirror_mode": {
    "name": "ipython",
    "version": 3
   },
   "file_extension": ".py",
   "mimetype": "text/x-python",
   "name": "python",
   "nbconvert_exporter": "python",
   "pygments_lexer": "ipython3",
   "version": "3.6.2"
  }
 },
 "nbformat": 4,
 "nbformat_minor": 2
}
