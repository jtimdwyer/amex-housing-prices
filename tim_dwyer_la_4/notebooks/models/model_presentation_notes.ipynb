{
 "cells": [
  {
   "cell_type": "code",
   "execution_count": 1,
   "metadata": {},
   "outputs": [],
   "source": [
    "import pandas as pd\n",
    "import pickle\n",
    "from sklearn.preprocessing import PolynomialFeatures"
   ]
  },
  {
   "cell_type": "code",
   "execution_count": 2,
   "metadata": {},
   "outputs": [],
   "source": [
    "train = pd.read_csv('../../data/engineered/training.csv', index_col='id')\n",
    "train.drop('SalePrice', 1, inplace=True)\n",
    "pf = PolynomialFeatures(include_bias=False)\n",
    "pf.fit(train)\n",
    "pf_feat_cols = pf.get_feature_names(input_features=train.columns)"
   ]
  },
  {
   "cell_type": "code",
   "execution_count": 3,
   "metadata": {},
   "outputs": [
    {
     "name": "stderr",
     "output_type": "stream",
     "text": [
      "/opt/conda/lib/python3.6/site-packages/sklearn/cross_validation.py:41: DeprecationWarning: This module was deprecated in version 0.18 in favor of the model_selection module into which all the refactored classes and functions are moved. Also note that the interface of the new CV iterators are different from that of this module. This module will be removed in 0.20.\n",
      "  \"This module will be removed in 0.20.\", DeprecationWarning)\n",
      "/opt/conda/lib/python3.6/site-packages/sklearn/grid_search.py:42: DeprecationWarning: This module was deprecated in version 0.18 in favor of the model_selection module into which all the refactored classes and functions are moved. This module will be removed in 0.20.\n",
      "  DeprecationWarning)\n"
     ]
    }
   ],
   "source": [
    "with open('../models/lasso.pickle', 'rb') as file:\n",
    "    lasso_model = pickle.load(file)"
   ]
  },
  {
   "cell_type": "code",
   "execution_count": 4,
   "metadata": {},
   "outputs": [],
   "source": [
    "lasso_coefs = lasso_model.best_estimator_.steps[1][1].coef_\n",
    "lasso_coefs = pd.Series(lasso_coefs, index=train.columns)"
   ]
  },
  {
   "cell_type": "code",
   "execution_count": 5,
   "metadata": {},
   "outputs": [],
   "source": [
    "with open('../models/ridge.pickle', 'rb') as file:\n",
    "    ridge_model = pickle.load(file)"
   ]
  },
  {
   "cell_type": "code",
   "execution_count": 6,
   "metadata": {},
   "outputs": [],
   "source": [
    "ridge_coefs = ridge_model.best_estimator_.steps[1][1].coef_\n",
    "ridge_coefs = pd.Series(ridge_coefs, index=train.columns)"
   ]
  },
  {
   "cell_type": "code",
   "execution_count": 7,
   "metadata": {},
   "outputs": [],
   "source": [
    "with open('../models/elastic_net.pickle', 'rb') as file:\n",
    "    elastic_model = pickle.load(file)"
   ]
  },
  {
   "cell_type": "code",
   "execution_count": 8,
   "metadata": {},
   "outputs": [],
   "source": [
    "elastic_coefs = elastic_model.best_estimator_.steps[1][1].coef_\n",
    "elastic_coefs = pd.Series(elastic_coefs, index=train.columns)"
   ]
  },
  {
   "cell_type": "code",
   "execution_count": 9,
   "metadata": {},
   "outputs": [],
   "source": [
    "with open('../models/elastic_net_2.pickle', 'rb') as file:\n",
    "    elastic_model_2 = pickle.load(file)"
   ]
  },
  {
   "cell_type": "code",
   "execution_count": 10,
   "metadata": {},
   "outputs": [],
   "source": [
    "elastic_coefs_2 = elastic_model_2.best_estimator_.steps[2][1].coef_\n",
    "elastic_coefs_2 = pd.Series(elastic_coefs_2, index=pf_feat_cols)"
   ]
  },
  {
   "cell_type": "code",
   "execution_count": 11,
   "metadata": {
    "scrolled": false
   },
   "outputs": [
    {
     "data": {
      "text/plain": [
       "overall_qual        0.114552\n",
       "gr_liv_area         0.092103\n",
       "year_built          0.064835\n",
       "1st_flr_sf          0.058633\n",
       "overall_cond        0.048163\n",
       "lot_area            0.041685\n",
       "2nd_flr_sf          0.029435\n",
       "bsmtfin_sf_1        0.029306\n",
       "year_remod/add      0.022409\n",
       "bsmt_full_bath      0.020793\n",
       "functional_Typ      0.019287\n",
       "garage_cars         0.017445\n",
       "fireplaces          0.016503\n",
       "exter_cond_TA       0.016302\n",
       "heating_qc_Ex       0.015599\n",
       "total_bsmt_sf       0.015149\n",
       "bsmt_exposure_Gd    0.014663\n",
       "foundation_PConc    0.013066\n",
       "screen_porch        0.012112\n",
       "exter_qual_TA      -0.011716\n",
       "dtype: float64"
      ]
     },
     "execution_count": 11,
     "metadata": {},
     "output_type": "execute_result"
    }
   ],
   "source": [
    "lasso_index_sorted = lasso_coefs.abs().sort_values(ascending=False).index\n",
    "lasso_coefs[lasso_index_sorted][:20]"
   ]
  },
  {
   "cell_type": "code",
   "execution_count": 12,
   "metadata": {},
   "outputs": [
    {
     "data": {
      "text/plain": [
       "overall_qual                    0.103134\n",
       "year_built                      0.075526\n",
       "gr_liv_area                     0.072491\n",
       "1st_flr_sf                      0.069430\n",
       "2nd_flr_sf                      0.065710\n",
       "misc_val                       -0.062107\n",
       "misc_feature_No Misc Feature   -0.050628\n",
       "bsmtfin_sf_1                    0.049476\n",
       "overall_cond                    0.047370\n",
       "exterior_2nd_VinylSd           -0.044680\n",
       "garage_finish_Unf              -0.042371\n",
       "lot_area                        0.041448\n",
       "exterior_1st_VinylSd            0.038384\n",
       "garage_finish_RFn              -0.033517\n",
       "exter_cond_TA                   0.029793\n",
       "garage_finish_Fin              -0.029366\n",
       "bsmtfin_type_2_Unf             -0.027117\n",
       "heating_qc_Ex                   0.023748\n",
       "year_remod/add                  0.023348\n",
       "functional_Typ                  0.022260\n",
       "dtype: float64"
      ]
     },
     "execution_count": 12,
     "metadata": {},
     "output_type": "execute_result"
    }
   ],
   "source": [
    "ridge_index_sorted = ridge_coefs.abs().sort_values(ascending=False).index\n",
    "ridge_coefs[ridge_index_sorted][:20]"
   ]
  },
  {
   "cell_type": "code",
   "execution_count": 13,
   "metadata": {},
   "outputs": [
    {
     "data": {
      "text/plain": [
       "overall_qual        0.118971\n",
       "gr_liv_area         0.107758\n",
       "year_built          0.055149\n",
       "overall_cond        0.045040\n",
       "1st_flr_sf          0.043640\n",
       "lot_area            0.040295\n",
       "bsmtfin_sf_1        0.029270\n",
       "year_remod/add      0.022777\n",
       "bsmt_full_bath      0.020846\n",
       "functional_Typ      0.017492\n",
       "garage_cars         0.016799\n",
       "fireplaces          0.016584\n",
       "total_bsmt_sf       0.014967\n",
       "foundation_PConc    0.014852\n",
       "bsmt_exposure_Gd    0.012894\n",
       "exter_qual_TA      -0.011679\n",
       "heating_qc_Ex       0.010885\n",
       "2nd_flr_sf          0.010543\n",
       "screen_porch        0.010444\n",
       "paved_drive_Y       0.010149\n",
       "dtype: float64"
      ]
     },
     "execution_count": 13,
     "metadata": {},
     "output_type": "execute_result"
    }
   ],
   "source": [
    "elast_index_sorted = elastic_coefs.abs().sort_values(ascending=False).index\n",
    "elastic_coefs[elast_index_sorted][:20]"
   ]
  },
  {
   "cell_type": "code",
   "execution_count": 14,
   "metadata": {},
   "outputs": [
    {
     "data": {
      "text/plain": [
       "year_built gr_liv_area                       0.072736\n",
       "overall_qual lot_area                        0.071470\n",
       "year_remod/add gr_liv_area                   0.036277\n",
       "year_built year_remod/add                    0.031364\n",
       "overall_qual overall_cond                    0.024359\n",
       "year_built 1st_flr_sf                        0.023730\n",
       "overall_cond total_bsmt_sf                   0.022256\n",
       "lot_area gr_liv_area                         0.022008\n",
       "garage_area heating_qc_Ex                    0.017333\n",
       "bsmtfin_sf_1^2                               0.017063\n",
       "misc_val bsmt_exposure_Gd                   -0.014770\n",
       "garage_cars garage_cond_TA                   0.014521\n",
       "overall_qual street_Pave                     0.013432\n",
       "overall_cond fireplaces                      0.010909\n",
       "central_air_Y functional_Typ                 0.010061\n",
       "bsmtfin_sf_1 condition_1_Norm                0.009415\n",
       "overall_qual lot_frontage                    0.009101\n",
       "garage_area foundation_PConc                 0.008740\n",
       "year_remod/add 1st_flr_sf                    0.008297\n",
       "overall_qual misc_feature_No Misc Feature    0.007873\n",
       "dtype: float64"
      ]
     },
     "execution_count": 14,
     "metadata": {},
     "output_type": "execute_result"
    }
   ],
   "source": [
    "elast_index_sorted_2 = elastic_coefs_2.abs().sort_values(ascending=False).index\n",
    "elastic_coefs_2[elast_index_sorted_2][:20]"
   ]
  },
  {
   "cell_type": "markdown",
   "metadata": {},
   "source": [
    "The columns we changed in engineering due to skew are \n",
    ">'lot_frontage',  \n",
    ">'lot_area',  \n",
    ">'mas_vnr_area',  \n",
    ">'bsmtfin_sf_1',  \n",
    ">'bsmtfin_sf_2',  \n",
    ">'total_bsmt_sf',  \n",
    ">'1st_flr_sf',  \n",
    ">'low_qual_fin_sf',  \n",
    ">'gr_liv_area',  \n",
    ">'bsmt_half_bath',  \n",
    ">'kitchen_abvgr',  \n",
    ">'wood_deck_sf',  \n",
    ">'open_porch_sf',  \n",
    ">'enclosed_porch',  \n",
    ">'3ssn_porch',  \n",
    ">'screen_porch',  \n",
    ">'pool_area',  \n",
    ">'misc_val'"
   ]
  }
 ],
 "metadata": {
  "kernelspec": {
   "display_name": "Python 3",
   "language": "python",
   "name": "python3"
  },
  "language_info": {
   "codemirror_mode": {
    "name": "ipython",
    "version": 3
   },
   "file_extension": ".py",
   "mimetype": "text/x-python",
   "name": "python",
   "nbconvert_exporter": "python",
   "pygments_lexer": "ipython3",
   "version": "3.6.2"
  }
 },
 "nbformat": 4,
 "nbformat_minor": 2
}
