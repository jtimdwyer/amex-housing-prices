{
 "cells": [
  {
   "cell_type": "code",
   "execution_count": 102,
   "metadata": {},
   "outputs": [],
   "source": [
    "import pandas as pd\n",
    "import numpy as np\n",
    "\n",
    "import datetime\n",
    "\n",
    "\n",
    "import pickle\n",
    "\n",
    "from itertools import chain\n",
    "\n",
    "from sklearn.linear_model import ElasticNetCV, LassoCV, RidgeCV, LinearRegression\n",
    "from sklearn.model_selection import train_test_split, cross_val_score\n",
    "from sklearn.metrics import mean_squared_error\n",
    "\n",
    "import pickle"
   ]
  },
  {
   "cell_type": "code",
   "execution_count": 103,
   "metadata": {},
   "outputs": [],
   "source": [
    "train = pd.read_csv('../../data/engineered/training.csv', index_col='id')\n",
    "submission_input = pd.read_csv('../../data/engineered/test.csv', index_col='id')\n",
    "\n",
    "target = 'SalePrice'\n",
    "y = train[target]\n",
    "X = train[[col for col in train.columns if col != target]]\n",
    "y_log = np.log1p(y)"
   ]
  },
  {
   "cell_type": "code",
   "execution_count": 104,
   "metadata": {},
   "outputs": [],
   "source": [
    "X_train, X_test, y_train, y_test = train_test_split(X, y_log, test_size=.5, random_state=13)"
   ]
  },
  {
   "cell_type": "code",
   "execution_count": 105,
   "metadata": {
    "scrolled": false
   },
   "outputs": [
    {
     "data": {
      "text/plain": [
       "LassoCV(alphas=array([ 0.51785,  1.79934, ...,  0.34345,  0.34245]),\n",
       "    copy_X=True, cv=None, eps=0.001, fit_intercept=True, max_iter=1000,\n",
       "    n_alphas=100, n_jobs=1, normalize=False, positive=False,\n",
       "    precompute='auto', random_state=None, selection='cyclic', tol=0.0001,\n",
       "    verbose=False)"
      ]
     },
     "execution_count": 105,
     "metadata": {},
     "output_type": "execute_result"
    }
   ],
   "source": [
    "n_iter = 1000\n",
    "alphas = np.random.exponential(1, 100)\n",
    "\n",
    "lasso_model = LassoCV(alphas=alphas, max_iter=n_iter)\n",
    "lasso_model.fit(X_train, y_train)"
   ]
  },
  {
   "cell_type": "code",
   "execution_count": 106,
   "metadata": {},
   "outputs": [],
   "source": [
    "time_lasso = datetime.datetime.now()"
   ]
  },
  {
   "cell_type": "code",
   "execution_count": 107,
   "metadata": {},
   "outputs": [
    {
     "data": {
      "text/plain": [
       "0.82731237684544745"
      ]
     },
     "execution_count": 107,
     "metadata": {},
     "output_type": "execute_result"
    }
   ],
   "source": [
    "lasso_model.score(X_test, y_test)"
   ]
  },
  {
   "cell_type": "code",
   "execution_count": 108,
   "metadata": {},
   "outputs": [
    {
     "data": {
      "text/plain": [
       "0.17097865484528468"
      ]
     },
     "execution_count": 108,
     "metadata": {},
     "output_type": "execute_result"
    }
   ],
   "source": [
    "mean_squared_error(y_test, lasso_model.predict(X_test))**.5"
   ]
  },
  {
   "cell_type": "code",
   "execution_count": 109,
   "metadata": {
    "scrolled": true
   },
   "outputs": [
    {
     "data": {
      "text/plain": [
       "33220.791747237359"
      ]
     },
     "execution_count": 109,
     "metadata": {},
     "output_type": "execute_result"
    }
   ],
   "source": [
    "mean_squared_error(np.exp(y_test) - 1, np.exp(lasso_model.predict(X_test)) - 1)**.5"
   ]
  },
  {
   "cell_type": "code",
   "execution_count": 110,
   "metadata": {},
   "outputs": [],
   "source": [
    "with open('lasso.pickle', \"wb\") as pickle_model:\n",
    "    pickle.dump(lasso_model, pickle_model)\n",
    "\n",
    "\n",
    "# with open('lasso.pickle', \"rb\") as pickle_model:\n",
    "#     load_model = pickle.load(pickle_model)"
   ]
  },
  {
   "cell_type": "code",
   "execution_count": 114,
   "metadata": {},
   "outputs": [],
   "source": [
    "lasso_pred = lasso_model.predict(submission_input)\n",
    "lasso_pred = np.exp(lasso_pred) - 1\n",
    "submission = pd.DataFrame(data=\n",
    "                         {\n",
    "                             'SalePrice':lasso_pred\n",
    "                         },\n",
    "                         index=submission_input.index)\n",
    "submission.sort_index().to_csv('lasso_submission.csv')"
   ]
  },
  {
   "cell_type": "code",
   "execution_count": 11,
   "metadata": {},
   "outputs": [
    {
     "data": {
      "text/plain": [
       "RidgeCV(alphas=array([ 0.37173,  0.65108, ...,  0.04902,  1.59189]), cv=4,\n",
       "    fit_intercept=True, gcv_mode=None, normalize=False, scoring=None,\n",
       "    store_cv_values=False)"
      ]
     },
     "execution_count": 11,
     "metadata": {},
     "output_type": "execute_result"
    }
   ],
   "source": [
    "alphas = np.random.exponential(1, 100)\n",
    "\n",
    "ridge_model = RidgeCV(alphas=alphas, cv=4)\n",
    "ridge_model.fit(X_train, y_train)"
   ]
  },
  {
   "cell_type": "code",
   "execution_count": 12,
   "metadata": {},
   "outputs": [
    {
     "data": {
      "text/plain": [
       "0.81009524511939168"
      ]
     },
     "execution_count": 12,
     "metadata": {},
     "output_type": "execute_result"
    }
   ],
   "source": [
    "ridge_model.score(X_test, y_test)"
   ]
  },
  {
   "cell_type": "code",
   "execution_count": 13,
   "metadata": {},
   "outputs": [
    {
     "data": {
      "text/plain": [
       "0.17213326222770967"
      ]
     },
     "execution_count": 13,
     "metadata": {},
     "output_type": "execute_result"
    }
   ],
   "source": [
    "mean_squared_error(y_test, ridge_model.predict(X_test))**.5"
   ]
  },
  {
   "cell_type": "code",
   "execution_count": 14,
   "metadata": {
    "scrolled": false
   },
   "outputs": [
    {
     "data": {
      "text/plain": [
       "34767.884625352592"
      ]
     },
     "execution_count": 14,
     "metadata": {},
     "output_type": "execute_result"
    }
   ],
   "source": [
    "mean_squared_error(np.exp(y_test) - 1, np.exp(ridge_model.predict(X_test)) - 1)**.5"
   ]
  },
  {
   "cell_type": "code",
   "execution_count": 15,
   "metadata": {},
   "outputs": [],
   "source": [
    "with open('ridge.pickle', \"wb\") as pickle_model:\n",
    "    pickle.dump(ridge_model, pickle_model)\n",
    "\n",
    "\n",
    "# with open('ridge.pickle', \"rb\") as pickle_model:\n",
    "#     load_model = pickle.load(pickle_model)"
   ]
  },
  {
   "cell_type": "code",
   "execution_count": 118,
   "metadata": {},
   "outputs": [],
   "source": [
    "ridge_pred = ridge_model.predict(submission_input)\n",
    "ridge_pred = np.exp(ridge_pred) + 1\n",
    "ridge_pred = pd.DataFrame(data=\n",
    "                         {\n",
    "                             'SalePrice':ridge_pred\n",
    "                         },\n",
    "                         index=submission_input.index)\n",
    "submission.sort_index().to_csv('ridge_submission.csv')"
   ]
  },
  {
   "cell_type": "code",
   "execution_count": 122,
   "metadata": {},
   "outputs": [
    {
     "name": "stderr",
     "output_type": "stream",
     "text": [
      "/opt/conda/lib/python3.6/site-packages/sklearn/linear_model/coordinate_descent.py:491: ConvergenceWarning: Objective did not converge. You might want to increase the number of iterations. Fitting data with very small alpha may cause precision problems.\n",
      "  ConvergenceWarning)\n"
     ]
    },
    {
     "data": {
      "text/plain": [
       "0.83400704414961424"
      ]
     },
     "execution_count": 122,
     "metadata": {},
     "output_type": "execute_result"
    }
   ],
   "source": [
    "l1_ratio = [*chain(np.linspace(.01, .3, 10), np.linspace(.6,1, 90))]\n",
    "max_iter = 1000\n",
    "\n",
    "elastic_model = ElasticNetCV(l1_ratio=l1_ratio, max_iter=max_iter, cv=5)\n",
    "elastic_model.fit(X_train, y_train)\n",
    "elastic_model.score(X_test, y_test)"
   ]
  },
  {
   "cell_type": "code",
   "execution_count": 129,
   "metadata": {},
   "outputs": [
    {
     "data": {
      "text/plain": [
       "0.83400704414961424"
      ]
     },
     "execution_count": 129,
     "metadata": {},
     "output_type": "execute_result"
    }
   ],
   "source": [
    "elastic_model.score(X_test, y_test)"
   ]
  },
  {
   "cell_type": "code",
   "execution_count": 130,
   "metadata": {},
   "outputs": [
    {
     "data": {
      "text/plain": [
       "0.16763168839263196"
      ]
     },
     "execution_count": 130,
     "metadata": {},
     "output_type": "execute_result"
    }
   ],
   "source": [
    "mean_squared_error(y_test, elastic_model.predict(X_test))**.5"
   ]
  },
  {
   "cell_type": "code",
   "execution_count": 131,
   "metadata": {
    "scrolled": true
   },
   "outputs": [
    {
     "data": {
      "text/plain": [
       "33067.54218455917"
      ]
     },
     "execution_count": 131,
     "metadata": {},
     "output_type": "execute_result"
    }
   ],
   "source": [
    "mean_squared_error(np.exp(y_test) - 1, np.exp(elastic_model.predict(X_test)) - 1)**.5"
   ]
  },
  {
   "cell_type": "code",
   "execution_count": 132,
   "metadata": {},
   "outputs": [],
   "source": [
    "with open('ridge.pickle', \"wb\") as pickle_model:\n",
    "    pickle.dump(ridge_model, pickle_model)\n",
    "\n",
    "\n",
    "# with open('ridge.pickle', \"rb\") as pickle_model:\n",
    "#     load_model = pickle.load(pickle_model)"
   ]
  },
  {
   "cell_type": "code",
   "execution_count": 133,
   "metadata": {},
   "outputs": [],
   "source": [
    "elastic_pred = elastic_model.predict(submission_input)\n",
    "elastic_pred = np.exp(elastic_pred) - 1\n",
    "\n",
    "submission = pd.DataFrame(data=\n",
    "                         {\n",
    "                             'SalePrice':elastic_pred\n",
    "                         },\n",
    "                         index=submission_input.index)\n",
    "submission.sort_index().to_csv('elastic_submission.csv')"
   ]
  },
  {
   "cell_type": "code",
   "execution_count": 134,
   "metadata": {},
   "outputs": [],
   "source": [
    "time_elastic = datetime.datetime.now()"
   ]
  }
 ],
 "metadata": {
  "kernelspec": {
   "display_name": "Python 3",
   "language": "python",
   "name": "python3"
  },
  "language_info": {
   "codemirror_mode": {
    "name": "ipython",
    "version": 3
   },
   "file_extension": ".py",
   "mimetype": "text/x-python",
   "name": "python",
   "nbconvert_exporter": "python",
   "pygments_lexer": "ipython3",
   "version": "3.6.2"
  }
 },
 "nbformat": 4,
 "nbformat_minor": 2
}
