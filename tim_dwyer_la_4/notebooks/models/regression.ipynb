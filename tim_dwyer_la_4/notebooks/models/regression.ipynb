{
 "cells": [
  {
   "cell_type": "code",
   "execution_count": 33,
   "metadata": {},
   "outputs": [],
   "source": [
    "import pandas as pd\n",
    "import numpy as np\n",
    "\n",
    "\n",
    "import pickle\n",
    "\n",
    "from itertools import chain\n",
    "\n",
    "from sklearn.linear_model import ElasticNetCV, LassoCV, RidgeCV, LinearRegression\n",
    "from sklearn.model_selection import train_test_split, cross_val_score\n",
    "from sklearn.metrics import mean_squared_error\n",
    "\n",
    "import pickle"
   ]
  },
  {
   "cell_type": "code",
   "execution_count": 34,
   "metadata": {},
   "outputs": [],
   "source": [
    "train = pd.read_csv('../../data/engineered/training.csv')\n",
    "submission_input = pd.read_csv('../../data/engineered/test.csv')\n",
    "\n",
    "target = 'SalePrice'\n",
    "y = train[target]\n",
    "X = train[[col for col in train.columns if col != target]]\n",
    "y_log = np.log1p(y)"
   ]
  },
  {
   "cell_type": "code",
   "execution_count": 35,
   "metadata": {},
   "outputs": [],
   "source": [
    "X_train, X_test, y_train, y_test = train_test_split(X, y_log, test_size=.3, random_state=41)"
   ]
  },
  {
   "cell_type": "code",
   "execution_count": 36,
   "metadata": {
    "scrolled": true
   },
   "outputs": [
    {
     "data": {
      "text/plain": [
       "LassoCV(alphas=array([ 0.76237,  1.08792, ...,  0.15739,  2.69249]),\n",
       "    copy_X=True, cv=4, eps=0.001, fit_intercept=True, max_iter=100000,\n",
       "    n_alphas=100, n_jobs=1, normalize=False, positive=False,\n",
       "    precompute='auto', random_state=None, selection='cyclic', tol=0.0001,\n",
       "    verbose=False)"
      ]
     },
     "execution_count": 36,
     "metadata": {},
     "output_type": "execute_result"
    }
   ],
   "source": [
    "n_iter = 100000\n",
    "alphas = np.random.exponential(1, 10000)\n",
    "\n",
    "lasso_model = LassoCV(alphas=alphas, max_iter=n_iter, cv=4)\n",
    "lasso_model.fit(X_train, y_train)"
   ]
  },
  {
   "cell_type": "code",
   "execution_count": 37,
   "metadata": {},
   "outputs": [
    {
     "data": {
      "text/plain": [
       "0.84848408476909687"
      ]
     },
     "execution_count": 37,
     "metadata": {},
     "output_type": "execute_result"
    }
   ],
   "source": [
    "lasso_model.score(X_test, y_test)"
   ]
  },
  {
   "cell_type": "code",
   "execution_count": 38,
   "metadata": {},
   "outputs": [
    {
     "data": {
      "text/plain": [
       "0.15375385265093805"
      ]
     },
     "execution_count": 38,
     "metadata": {},
     "output_type": "execute_result"
    }
   ],
   "source": [
    "mean_squared_error(y_test, lasso_model.predict(X_test))**.5"
   ]
  },
  {
   "cell_type": "code",
   "execution_count": 39,
   "metadata": {
    "scrolled": true
   },
   "outputs": [
    {
     "data": {
      "text/plain": [
       "31694.639746185156"
      ]
     },
     "execution_count": 39,
     "metadata": {},
     "output_type": "execute_result"
    }
   ],
   "source": [
    "mean_squared_error(np.exp(y_test) - 1, np.exp(lasso_model.predict(X_test)) - 1)**.5"
   ]
  },
  {
   "cell_type": "code",
   "execution_count": 72,
   "metadata": {},
   "outputs": [],
   "source": [
    "with open('lasso.pickle', \"wb\") as pickle_model:\n",
    "    pickle.dump(lasso_model, pickle_model)\n",
    "\n",
    "\n",
    "# with open('lasso.pickle', \"rb\") as pickle_model:\n",
    "#     load_model = pickle.load(pickle_model)"
   ]
  },
  {
   "cell_type": "code",
   "execution_count": 40,
   "metadata": {},
   "outputs": [],
   "source": [
    "lasso_pred = lasso_model.predict(submission_input)\n",
    "lasso_pred = np.exp(lasso_pred) - 1\n",
    "submission = pd.DataFrame(data=\n",
    "                         {\n",
    "                             'SalePrice':lasso_pred\n",
    "                         },\n",
    "                         index=submission_input.index)\n",
    "submission.sort_index().to_csv('lasso_submission.csv')"
   ]
  },
  {
   "cell_type": "code",
   "execution_count": 41,
   "metadata": {},
   "outputs": [
    {
     "data": {
      "text/plain": [
       "RidgeCV(alphas=array([ 0.00953,  1.99174, ...,  1.60981,  0.03694]), cv=4,\n",
       "    fit_intercept=True, gcv_mode=None, normalize=False, scoring=None,\n",
       "    store_cv_values=False)"
      ]
     },
     "execution_count": 41,
     "metadata": {},
     "output_type": "execute_result"
    }
   ],
   "source": [
    "alphas = np.random.exponential(1, 10000)\n",
    "\n",
    "ridge_model = RidgeCV(alphas=alphas, cv=4)\n",
    "ridge_model.fit(X_train, y_train)"
   ]
  },
  {
   "cell_type": "code",
   "execution_count": 42,
   "metadata": {},
   "outputs": [
    {
     "data": {
      "text/plain": [
       "0.79849070905736852"
      ]
     },
     "execution_count": 42,
     "metadata": {},
     "output_type": "execute_result"
    }
   ],
   "source": [
    "ridge_model.score(X_test, y_test)"
   ]
  },
  {
   "cell_type": "code",
   "execution_count": 43,
   "metadata": {},
   "outputs": [
    {
     "data": {
      "text/plain": [
       "0.1773145676665018"
      ]
     },
     "execution_count": 43,
     "metadata": {},
     "output_type": "execute_result"
    }
   ],
   "source": [
    "mean_squared_error(y_test, ridge_model.predict(X_test))**.5"
   ]
  },
  {
   "cell_type": "code",
   "execution_count": 44,
   "metadata": {
    "scrolled": false
   },
   "outputs": [
    {
     "data": {
      "text/plain": [
       "37079.634623962047"
      ]
     },
     "execution_count": 44,
     "metadata": {},
     "output_type": "execute_result"
    }
   ],
   "source": [
    "mean_squared_error(np.exp(y_test) - 1, np.exp(ridge_model.predict(X_test)) - 1)**.5"
   ]
  },
  {
   "cell_type": "code",
   "execution_count": 77,
   "metadata": {},
   "outputs": [],
   "source": [
    "with open('ridge.pickle', \"wb\") as pickle_model:\n",
    "    pickle.dump(ridge_model, pickle_model)\n",
    "\n",
    "\n",
    "# with open('ridge.pickle', \"rb\") as pickle_model:\n",
    "#     load_model = pickle.load(pickle_model)"
   ]
  },
  {
   "cell_type": "code",
   "execution_count": 46,
   "metadata": {},
   "outputs": [],
   "source": [
    "ridge_pred = ridge_model.predict(submission_input)\n",
    "ridge_pred = pd.DataFrame(data=\n",
    "                         {\n",
    "                             'SalePrice':ridge_pred\n",
    "                         },\n",
    "                         index=submission_input.index)\n",
    "submission = np.exp(submission) - 1\n",
    "submission.sort_index().to_csv('ridge_submission.csv')"
   ]
  },
  {
   "cell_type": "code",
   "execution_count": 54,
   "metadata": {},
   "outputs": [
    {
     "data": {
      "text/plain": [
       "0.79695872213775809"
      ]
     },
     "execution_count": 54,
     "metadata": {},
     "output_type": "execute_result"
    }
   ],
   "source": [
    "l1_ratio = [*chain(np.linspace(.01, .3, 1000), np.linspace(.6,1, 9000))]\n",
    "max_iter = 1000\n",
    "\n",
    "elastic_model = ElasticNetCV(l1_ratio=l1_ratio, max_iter=max_iter)\n",
    "elastic_model.fit(X_train, y_train)\n",
    "elastic_model.score(X_test, y_test)"
   ]
  },
  {
   "cell_type": "code",
   "execution_count": 55,
   "metadata": {},
   "outputs": [
    {
     "data": {
      "text/plain": [
       "0.79695872213775809"
      ]
     },
     "execution_count": 55,
     "metadata": {},
     "output_type": "execute_result"
    }
   ],
   "source": [
    "elastic_model.score(X_test, y_test)"
   ]
  },
  {
   "cell_type": "code",
   "execution_count": 56,
   "metadata": {},
   "outputs": [
    {
     "data": {
      "text/plain": [
       "0.17798731395409959"
      ]
     },
     "execution_count": 56,
     "metadata": {},
     "output_type": "execute_result"
    }
   ],
   "source": [
    "mean_squared_error(y_test, elastic_model.predict(X_test))**.5"
   ]
  },
  {
   "cell_type": "code",
   "execution_count": 57,
   "metadata": {
    "scrolled": true
   },
   "outputs": [
    {
     "data": {
      "text/plain": [
       "39756.232459615458"
      ]
     },
     "execution_count": 57,
     "metadata": {},
     "output_type": "execute_result"
    }
   ],
   "source": [
    "mean_squared_error(np.exp(y_test) - 1, np.exp(elastic_model.predict(X_test)) - 1)**.5"
   ]
  },
  {
   "cell_type": "code",
   "execution_count": 79,
   "metadata": {},
   "outputs": [],
   "source": [
    "with open('ridge.pickle', \"wb\") as pickle_model:\n",
    "    pickle.dump(ridge_model, pickle_model)\n",
    "\n",
    "\n",
    "# with open('ridge.pickle', \"rb\") as pickle_model:\n",
    "#     load_model = pickle.load(pickle_model)"
   ]
  },
  {
   "cell_type": "code",
   "execution_count": 80,
   "metadata": {},
   "outputs": [],
   "source": [
    "elastic_pred = elastic_model.predict(submission_input)\n",
    "elastic_pred = np.exp(elastic_pred) - 1\n",
    "\n",
    "submission = pd.DataFrame(data=\n",
    "                         {\n",
    "                             'SalePrice':elastic_pred\n",
    "                         },\n",
    "                         index=submission_input.index)\n",
    "submission.sort_index().to_csv('elastic_submission.csv')"
   ]
  }
 ],
 "metadata": {
  "kernelspec": {
   "display_name": "Python 3",
   "language": "python",
   "name": "python3"
  },
  "language_info": {
   "codemirror_mode": {
    "name": "ipython",
    "version": 3
   },
   "file_extension": ".py",
   "mimetype": "text/x-python",
   "name": "python",
   "nbconvert_exporter": "python",
   "pygments_lexer": "ipython3",
   "version": "3.6.2"
  }
 },
 "nbformat": 4,
 "nbformat_minor": 2
}
